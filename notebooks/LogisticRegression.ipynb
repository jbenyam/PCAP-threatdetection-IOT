{
 "cells": [
  {
   "cell_type": "code",
   "execution_count": 15,
   "metadata": {},
   "outputs": [],
   "source": [
    "import pandas as pd\n",
    "import numpy as np\n",
    "import os\n",
    "from tqdm import tqdm\n",
    "import warnings\n",
    "warnings.filterwarnings(\"ignore\")\n",
    "from sklearn.linear_model import LogisticRegression\n"
   ]
  },
  {
   "cell_type": "code",
   "execution_count": 34,
   "metadata": {},
   "outputs": [
    {
     "name": "stdout",
     "output_type": "stream",
     "text": [
      "Total CSV files found: 287\n",
      "Files: ['Backdoor_Malware/Backdoor_Malware.pcap.csv', 'Benign_Final/BenignTraffic.pcap.csv', 'Benign_Final/BenignTraffic1.pcap.csv', 'Benign_Final/BenignTraffic2.pcap.csv', 'Benign_Final/BenignTraffic3.pcap.csv', 'BrowserHijacking/BrowserHijacking.pcap.csv', 'CommandInjection/CommandInjection.pcap.csv', 'DDoS-HTTP_Flood/DDoS-HTTP_Flood-.pcap.csv', 'DDoS-ICMP_Flood/DDoS-ICMP_Flood.pcap.csv', 'DDoS-ICMP_Flood/DDoS-ICMP_Flood1.pcap.csv', 'DDoS-ICMP_Flood/DDoS-ICMP_Flood10.pcap.csv', 'DDoS-ICMP_Flood/DDoS-ICMP_Flood11.pcap.csv', 'DDoS-ICMP_Flood/DDoS-ICMP_Flood12.pcap.csv', 'DDoS-ICMP_Flood/DDoS-ICMP_Flood13.pcap.csv', 'DDoS-ICMP_Flood/DDoS-ICMP_Flood14.pcap.csv', 'DDoS-ICMP_Flood/DDoS-ICMP_Flood15.pcap.csv', 'DDoS-ICMP_Flood/DDoS-ICMP_Flood16.pcap.csv', 'DDoS-ICMP_Flood/DDoS-ICMP_Flood17.pcap.csv', 'DDoS-ICMP_Flood/DDoS-ICMP_Flood18.pcap.csv', 'DDoS-ICMP_Flood/DDoS-ICMP_Flood19.pcap.csv', 'DDoS-ICMP_Flood/DDoS-ICMP_Flood2.pcap.csv', 'DDoS-ICMP_Flood/DDoS-ICMP_Flood20.pcap.csv', 'DDoS-ICMP_Flood/DDoS-ICMP_Flood21.pcap.csv', 'DDoS-ICMP_Flood/DDoS-ICMP_Flood22.pcap.csv', 'DDoS-ICMP_Flood/DDoS-ICMP_Flood23.pcap.csv', 'DDoS-ICMP_Flood/DDoS-ICMP_Flood24.pcap.csv', 'DDoS-ICMP_Flood/DDoS-ICMP_Flood25.pcap.csv', 'DDoS-ICMP_Flood/DDoS-ICMP_Flood26.pcap.csv', 'DDoS-ICMP_Flood/DDoS-ICMP_Flood3.pcap.csv', 'DDoS-ICMP_Flood/DDoS-ICMP_Flood4.pcap.csv', 'DDoS-ICMP_Flood/DDoS-ICMP_Flood5.pcap.csv', 'DDoS-ICMP_Flood/DDoS-ICMP_Flood6.pcap.csv', 'DDoS-ICMP_Flood/DDoS-ICMP_Flood7.pcap.csv', 'DDoS-ICMP_Flood/DDoS-ICMP_Flood8.pcap.csv', 'DDoS-ICMP_Flood/DDoS-ICMP_Flood9.pcap.csv', 'DDoS-ICMP_Fragmentation/DDoS-ICMP_Fragmentation.pcap.csv', 'DDoS-ICMP_Fragmentation/DDoS-ICMP_Fragmentation1.pcap.csv', 'DDoS-ICMP_Fragmentation/DDoS-ICMP_Fragmentation10.pcap.csv', 'DDoS-ICMP_Fragmentation/DDoS-ICMP_Fragmentation11.pcap.csv', 'DDoS-ICMP_Fragmentation/DDoS-ICMP_Fragmentation12.pcap.csv', 'DDoS-ICMP_Fragmentation/DDoS-ICMP_Fragmentation13.pcap.csv', 'DDoS-ICMP_Fragmentation/DDoS-ICMP_Fragmentation14.pcap.csv', 'DDoS-ICMP_Fragmentation/DDoS-ICMP_Fragmentation15.pcap.csv', 'DDoS-ICMP_Fragmentation/DDoS-ICMP_Fragmentation16.pcap.csv', 'DDoS-ICMP_Fragmentation/DDoS-ICMP_Fragmentation17.pcap.csv', 'DDoS-ICMP_Fragmentation/DDoS-ICMP_Fragmentation18.pcap.csv', 'DDoS-ICMP_Fragmentation/DDoS-ICMP_Fragmentation19.pcap.csv', 'DDoS-ICMP_Fragmentation/DDoS-ICMP_Fragmentation2.pcap.csv', 'DDoS-ICMP_Fragmentation/DDoS-ICMP_Fragmentation3.pcap.csv', 'DDoS-ICMP_Fragmentation/DDoS-ICMP_Fragmentation4.pcap.csv', 'DDoS-ICMP_Fragmentation/DDoS-ICMP_Fragmentation5.pcap.csv', 'DDoS-ICMP_Fragmentation/DDoS-ICMP_Fragmentation6.pcap.csv', 'DDoS-ICMP_Fragmentation/DDoS-ICMP_Fragmentation7.pcap.csv', 'DDoS-ICMP_Fragmentation/DDoS-ICMP_Fragmentation8.pcap.csv', 'DDoS-ICMP_Fragmentation/DDoS-ICMP_Fragmentation9.pcap.csv', 'DDoS-PSHACK_FLOOD/DDoS-PSHACK_Flood.pcap.csv', 'DDoS-PSHACK_FLOOD/DDoS-PSHACK_Flood1.pcap.csv', 'DDoS-PSHACK_FLOOD/DDoS-PSHACK_Flood10.pcap.csv', 'DDoS-PSHACK_FLOOD/DDoS-PSHACK_Flood11.pcap.csv', 'DDoS-PSHACK_FLOOD/DDoS-PSHACK_Flood12.pcap.csv', 'DDoS-PSHACK_FLOOD/DDoS-PSHACK_Flood13.pcap.csv', 'DDoS-PSHACK_FLOOD/DDoS-PSHACK_Flood14.pcap.csv', 'DDoS-PSHACK_FLOOD/DDoS-PSHACK_Flood15.pcap.csv', 'DDoS-PSHACK_FLOOD/DDoS-PSHACK_Flood2.pcap.csv', 'DDoS-PSHACK_FLOOD/DDoS-PSHACK_Flood3.pcap.csv', 'DDoS-PSHACK_FLOOD/DDoS-PSHACK_Flood4.pcap.csv', 'DDoS-PSHACK_FLOOD/DDoS-PSHACK_Flood5.pcap.csv', 'DDoS-PSHACK_FLOOD/DDoS-PSHACK_Flood6.pcap.csv', 'DDoS-PSHACK_FLOOD/DDoS-PSHACK_Flood7.pcap.csv', 'DDoS-PSHACK_FLOOD/DDoS-PSHACK_Flood8.pcap.csv', 'DDoS-PSHACK_FLOOD/DDoS-PSHACK_Flood9.pcap.csv', 'DDoS-RSTFINFLOOD/DDoS-RSTFINFlood.pcap.csv', 'DDoS-RSTFINFLOOD/DDoS-RSTFINFlood1.pcap.csv', 'DDoS-RSTFINFLOOD/DDoS-RSTFINFlood10.pcap.csv', 'DDoS-RSTFINFLOOD/DDoS-RSTFINFlood11.pcap.csv', 'DDoS-RSTFINFLOOD/DDoS-RSTFINFlood12.pcap.csv', 'DDoS-RSTFINFLOOD/DDoS-RSTFINFlood13.pcap.csv', 'DDoS-RSTFINFLOOD/DDoS-RSTFINFlood14.pcap.csv', 'DDoS-RSTFINFLOOD/DDoS-RSTFINFlood15.pcap.csv', 'DDoS-RSTFINFLOOD/DDoS-RSTFINFlood2.pcap.csv', 'DDoS-RSTFINFLOOD/DDoS-RSTFINFlood3.pcap.csv', 'DDoS-RSTFINFLOOD/DDoS-RSTFINFlood4.pcap.csv', 'DDoS-RSTFINFLOOD/DDoS-RSTFINFlood5.pcap.csv', 'DDoS-RSTFINFLOOD/DDoS-RSTFINFlood6.pcap.csv', 'DDoS-RSTFINFLOOD/DDoS-RSTFINFlood7.pcap.csv', 'DDoS-RSTFINFLOOD/DDoS-RSTFINFlood8.pcap.csv', 'DDoS-RSTFINFLOOD/DDoS-RSTFINFlood9.pcap.csv', 'DDoS-SYN_Flood/DDoS-SYN_Flood.pcap.csv', 'DDoS-SYN_Flood/DDoS-SYN_Flood1.pcap.csv', 'DDoS-SYN_Flood/DDoS-SYN_Flood10.pcap.csv', 'DDoS-SYN_Flood/DDoS-SYN_Flood11.pcap.csv', 'DDoS-SYN_Flood/DDoS-SYN_Flood12.pcap.csv', 'DDoS-SYN_Flood/DDoS-SYN_Flood13.pcap.csv', 'DDoS-SYN_Flood/DDoS-SYN_Flood14.pcap.csv', 'DDoS-SYN_Flood/DDoS-SYN_Flood15.pcap.csv', 'DDoS-SYN_Flood/DDoS-SYN_Flood2.pcap.csv', 'DDoS-SYN_Flood/DDoS-SYN_Flood3.pcap.csv', 'DDoS-SYN_Flood/DDoS-SYN_Flood4.pcap.csv', 'DDoS-SYN_Flood/DDoS-SYN_Flood5.pcap.csv', 'DDoS-SYN_Flood/DDoS-SYN_Flood6.pcap.csv', 'DDoS-SYN_Flood/DDoS-SYN_Flood7.pcap.csv', 'DDoS-SYN_Flood/DDoS-SYN_Flood8.pcap.csv', 'DDoS-SYN_Flood/DDoS-SYN_Flood9.pcap.csv', 'DDoS-SlowLoris/DDoS-SlowLoris.pcap.csv', 'DDoS-SynonymousIP_Flood/DDoS-SynonymousIP_Flood.pcap.csv', 'DDoS-SynonymousIP_Flood/DDoS-SynonymousIP_Flood1.pcap.csv', 'DDoS-SynonymousIP_Flood/DDoS-SynonymousIP_Flood10.pcap.csv', 'DDoS-SynonymousIP_Flood/DDoS-SynonymousIP_Flood11.pcap.csv', 'DDoS-SynonymousIP_Flood/DDoS-SynonymousIP_Flood12.pcap.csv', 'DDoS-SynonymousIP_Flood/DDoS-SynonymousIP_Flood13.pcap.csv', 'DDoS-SynonymousIP_Flood/DDoS-SynonymousIP_Flood2.pcap.csv', 'DDoS-SynonymousIP_Flood/DDoS-SynonymousIP_Flood3.pcap.csv', 'DDoS-SynonymousIP_Flood/DDoS-SynonymousIP_Flood4.pcap.csv', 'DDoS-SynonymousIP_Flood/DDoS-SynonymousIP_Flood5.pcap.csv', 'DDoS-SynonymousIP_Flood/DDoS-SynonymousIP_Flood6.pcap.csv', 'DDoS-SynonymousIP_Flood/DDoS-SynonymousIP_Flood7.pcap.csv', 'DDoS-SynonymousIP_Flood/DDoS-SynonymousIP_Flood8.pcap.csv', 'DDoS-SynonymousIP_Flood/DDoS-SynonymousIP_Flood9.pcap.csv', 'DDoS-TCP_Flood/DDoS-TCP_Flood.pcap.csv', 'DDoS-TCP_Flood/DDoS-TCP_Flood1.pcap.csv', 'DDoS-TCP_Flood/DDoS-TCP_Flood10.pcap.csv', 'DDoS-TCP_Flood/DDoS-TCP_Flood11.pcap.csv', 'DDoS-TCP_Flood/DDoS-TCP_Flood12.pcap.csv', 'DDoS-TCP_Flood/DDoS-TCP_Flood13.pcap.csv', 'DDoS-TCP_Flood/DDoS-TCP_Flood14.pcap.csv', 'DDoS-TCP_Flood/DDoS-TCP_Flood15.pcap.csv', 'DDoS-TCP_Flood/DDoS-TCP_Flood16.pcap.csv', 'DDoS-TCP_Flood/DDoS-TCP_Flood17.pcap.csv', 'DDoS-TCP_Flood/DDoS-TCP_Flood2.pcap.csv', 'DDoS-TCP_Flood/DDoS-TCP_Flood3.pcap.csv', 'DDoS-TCP_Flood/DDoS-TCP_Flood4.pcap.csv', 'DDoS-TCP_Flood/DDoS-TCP_Flood5.pcap.csv', 'DDoS-TCP_Flood/DDoS-TCP_Flood6.pcap.csv', 'DDoS-TCP_Flood/DDoS-TCP_Flood7.pcap.csv', 'DDoS-TCP_Flood/DDoS-TCP_Flood8.pcap.csv', 'DDoS-TCP_Flood/DDoS-TCP_Flood9.pcap.csv', 'DDoS-UDP_Flood/DDoS-UDP_Flood.pcap.csv', 'DDoS-UDP_Flood/DDoS-UDP_Flood1.pcap.csv', 'DDoS-UDP_Flood/DDoS-UDP_Flood10.pcap.csv', 'DDoS-UDP_Flood/DDoS-UDP_Flood11.pcap.csv', 'DDoS-UDP_Flood/DDoS-UDP_Flood12.pcap.csv', 'DDoS-UDP_Flood/DDoS-UDP_Flood13.pcap.csv', 'DDoS-UDP_Flood/DDoS-UDP_Flood14.pcap.csv', 'DDoS-UDP_Flood/DDoS-UDP_Flood15.pcap.csv', 'DDoS-UDP_Flood/DDoS-UDP_Flood16.pcap.csv', 'DDoS-UDP_Flood/DDoS-UDP_Flood17.pcap.csv', 'DDoS-UDP_Flood/DDoS-UDP_Flood18.pcap.csv', 'DDoS-UDP_Flood/DDoS-UDP_Flood19.pcap.csv', 'DDoS-UDP_Flood/DDoS-UDP_Flood2.pcap.csv', 'DDoS-UDP_Flood/DDoS-UDP_Flood20.pcap.csv', 'DDoS-UDP_Flood/DDoS-UDP_Flood3.pcap.csv', 'DDoS-UDP_Flood/DDoS-UDP_Flood4.pcap.csv', 'DDoS-UDP_Flood/DDoS-UDP_Flood5.pcap.csv', 'DDoS-UDP_Flood/DDoS-UDP_Flood6.pcap.csv', 'DDoS-UDP_Flood/DDoS-UDP_Flood7.pcap.csv', 'DDoS-UDP_Flood/DDoS-UDP_Flood8.pcap.csv', 'DDoS-UDP_Flood/DDoS-UDP_Flood9.pcap.csv', 'DNS_Spoofing/DNS_Spoofing.pcap.csv', 'DictionaryBruteForce/DictionaryBruteForce.pcap.csv', 'DoS-HTTP_Flood/DoS-HTTP_Flood.pcap.csv', 'DoS-HTTP_Flood/DoS-HTTP_Flood1.pcap.csv', 'DoS-SYN_Flood/DoS-SYN_Flood.pcap.csv', 'DoS-SYN_Flood/DoS-SYN_Flood1.pcap.csv', 'DoS-SYN_Flood/DoS-SYN_Flood2.pcap.csv', 'DoS-SYN_Flood/DoS-SYN_Flood3.pcap.csv', 'DoS-SYN_Flood/DoS-SYN_Flood4.pcap.csv', 'DoS-SYN_Flood/DoS-SYN_Flood5.pcap.csv', 'DoS-SYN_Flood/DoS-SYN_Flood6.pcap.csv', 'DoS-SYN_Flood/DoS-SYN_Flood7.pcap.csv', 'DoS-TCP_Flood/DoS-TCP_Flood.pcap.csv', 'DoS-TCP_Flood/DoS-TCP_Flood1.pcap.csv', 'DoS-TCP_Flood/DoS-TCP_Flood10.pcap.csv', 'DoS-TCP_Flood/DoS-TCP_Flood3.pcap.csv', 'DoS-TCP_Flood/DoS-TCP_Flood4.pcap.csv', 'DoS-TCP_Flood/DoS-TCP_Flood5.pcap.csv', 'DoS-TCP_Flood/DoS-TCP_Flood6.pcap.csv', 'DoS-TCP_Flood/DoS-TCP_Flood7.pcap.csv', 'DoS-TCP_Flood/DoS-TCP_Flood8.pcap.csv', 'DoS-TCP_Flood/DoS-TCP_Flood9.pcap.csv', 'DoS-UDP_Flood/DoS-UDP_Flood.pcap.csv', 'DoS-UDP_Flood/DoS-UDP_Flood1.pcap.csv', 'DoS-UDP_Flood/DoS-UDP_Flood10.pcap.csv', 'DoS-UDP_Flood/DoS-UDP_Flood11.pcap.csv', 'DoS-UDP_Flood/DoS-UDP_Flood12.pcap.csv', 'DoS-UDP_Flood/DoS-UDP_Flood13.pcap.csv', 'DoS-UDP_Flood/DoS-UDP_Flood14.pcap.csv', 'DoS-UDP_Flood/DoS-UDP_Flood15.pcap.csv', 'DoS-UDP_Flood/DoS-UDP_Flood16.pcap.csv', 'DoS-UDP_Flood/DoS-UDP_Flood2.pcap.csv', 'DoS-UDP_Flood/DoS-UDP_Flood3.pcap.csv', 'DoS-UDP_Flood/DoS-UDP_Flood4.pcap.csv', 'DoS-UDP_Flood/DoS-UDP_Flood5.pcap.csv', 'DoS-UDP_Flood/DoS-UDP_Flood6.pcap.csv', 'DoS-UDP_Flood/DoS-UDP_Flood7.pcap.csv', 'DoS-UDP_Flood/DoS-UDP_Flood8.pcap.csv', 'DoS-UDP_Flood/DoS-UDP_Flood9.pcap.csv', 'DoS-UDP_Fragmentation/DDoS-UDP_Fragmentation.pcap.csv', 'DoS-UDP_Fragmentation/DDoS-UDP_Fragmentation1.pcap.csv', 'DoS-UDP_Fragmentation/DDoS-UDP_Fragmentation10.pcap.csv', 'DoS-UDP_Fragmentation/DDoS-UDP_Fragmentation11.pcap.csv', 'DoS-UDP_Fragmentation/DDoS-UDP_Fragmentation12.pcap.csv', 'DoS-UDP_Fragmentation/DDoS-UDP_Fragmentation2.pcap.csv', 'DoS-UDP_Fragmentation/DDoS-UDP_Fragmentation3.pcap.csv', 'DoS-UDP_Fragmentation/DDoS-UDP_Fragmentation4.pcap.csv', 'DoS-UDP_Fragmentation/DDoS-UDP_Fragmentation5.pcap.csv', 'DoS-UDP_Fragmentation/DDoS-UDP_Fragmentation6.pcap.csv', 'DoS-UDP_Fragmentation/DDoS-UDP_Fragmentation7.pcap.csv', 'DoS-UDP_Fragmentation/DDoS-UDP_Fragmentation8.pcap.csv', 'DoS-UDP_Fragmentation/DDoS-UDP_Fragmentation9.pcap.csv', 'MITM-ArpSpoofing/MITM-ArpSpoofing.pcap.csv', 'MITM-ArpSpoofing/MITM-ArpSpoofing1.pcap.csv', 'Mirai-greeth_flood/Mirai-greeth_flood.pcap.csv', 'Mirai-greeth_flood/Mirai-greeth_flood1.pcap.csv', 'Mirai-greeth_flood/Mirai-greeth_flood10.pcap.csv', 'Mirai-greeth_flood/Mirai-greeth_flood11.pcap.csv', 'Mirai-greeth_flood/Mirai-greeth_flood12.pcap.csv', 'Mirai-greeth_flood/Mirai-greeth_flood13.pcap.csv', 'Mirai-greeth_flood/Mirai-greeth_flood14.pcap.csv', 'Mirai-greeth_flood/Mirai-greeth_flood15.pcap.csv', 'Mirai-greeth_flood/Mirai-greeth_flood16.pcap.csv', 'Mirai-greeth_flood/Mirai-greeth_flood17.pcap.csv', 'Mirai-greeth_flood/Mirai-greeth_flood18.pcap.csv', 'Mirai-greeth_flood/Mirai-greeth_flood19.pcap.csv', 'Mirai-greeth_flood/Mirai-greeth_flood2.pcap.csv', 'Mirai-greeth_flood/Mirai-greeth_flood20.pcap.csv', 'Mirai-greeth_flood/Mirai-greeth_flood3.pcap.csv', 'Mirai-greeth_flood/Mirai-greeth_flood4.pcap.csv', 'Mirai-greeth_flood/Mirai-greeth_flood5.pcap.csv', 'Mirai-greeth_flood/Mirai-greeth_flood6.pcap.csv', 'Mirai-greeth_flood/Mirai-greeth_flood7.pcap.csv', 'Mirai-greeth_flood/Mirai-greeth_flood8.pcap.csv', 'Mirai-greeth_flood/Mirai-greeth_flood9.pcap.csv', 'Mirai-greip_flood/Mirai-greip_flood.pcap.csv', 'Mirai-greip_flood/Mirai-greip_flood1.pcap.csv', 'Mirai-greip_flood/Mirai-greip_flood10.pcap.csv', 'Mirai-greip_flood/Mirai-greip_flood11.pcap.csv', 'Mirai-greip_flood/Mirai-greip_flood12.pcap.csv', 'Mirai-greip_flood/Mirai-greip_flood13.pcap.csv', 'Mirai-greip_flood/Mirai-greip_flood14.pcap.csv', 'Mirai-greip_flood/Mirai-greip_flood15.pcap.csv', 'Mirai-greip_flood/Mirai-greip_flood16.pcap.csv', 'Mirai-greip_flood/Mirai-greip_flood17.pcap.csv', 'Mirai-greip_flood/Mirai-greip_flood18.pcap.csv', 'Mirai-greip_flood/Mirai-greip_flood19.pcap.csv', 'Mirai-greip_flood/Mirai-greip_flood2.pcap.csv', 'Mirai-greip_flood/Mirai-greip_flood20.pcap.csv', 'Mirai-greip_flood/Mirai-greip_flood21.pcap.csv', 'Mirai-greip_flood/Mirai-greip_flood3.pcap.csv', 'Mirai-greip_flood/Mirai-greip_flood4.pcap.csv', 'Mirai-greip_flood/Mirai-greip_flood5.pcap.csv', 'Mirai-greip_flood/Mirai-greip_flood6.pcap.csv', 'Mirai-greip_flood/Mirai-greip_flood7.pcap.csv', 'Mirai-greip_flood/Mirai-greip_flood8.pcap.csv', 'Mirai-greip_flood/Mirai-greip_flood9.pcap.csv', 'Mirai-udpplain/Mirai-udpplain.pcap.csv', 'Mirai-udpplain/Mirai-udpplain1.pcap.csv', 'Mirai-udpplain/Mirai-udpplain10.pcap.csv', 'Mirai-udpplain/Mirai-udpplain11.pcap.csv', 'Mirai-udpplain/Mirai-udpplain12.pcap.csv', 'Mirai-udpplain/Mirai-udpplain13.pcap.csv', 'Mirai-udpplain/Mirai-udpplain14.pcap.csv', 'Mirai-udpplain/Mirai-udpplain15.pcap.csv', 'Mirai-udpplain/Mirai-udpplain16.pcap.csv', 'Mirai-udpplain/Mirai-udpplain17.pcap.csv', 'Mirai-udpplain/Mirai-udpplain18.pcap.csv', 'Mirai-udpplain/Mirai-udpplain19.pcap.csv', 'Mirai-udpplain/Mirai-udpplain2.pcap.csv', 'Mirai-udpplain/Mirai-udpplain20.pcap.csv', 'Mirai-udpplain/Mirai-udpplain21.pcap.csv', 'Mirai-udpplain/Mirai-udpplain22.pcap.csv', 'Mirai-udpplain/Mirai-udpplain23.pcap.csv', 'Mirai-udpplain/Mirai-udpplain24.pcap.csv', 'Mirai-udpplain/Mirai-udpplain3.pcap.csv', 'Mirai-udpplain/Mirai-udpplain4.pcap.csv', 'Mirai-udpplain/Mirai-udpplain5.pcap.csv', 'Mirai-udpplain/Mirai-udpplain6.pcap.csv', 'Mirai-udpplain/Mirai-udpplain7.pcap.csv', 'Mirai-udpplain/Mirai-udpplain8.pcap.csv', 'Mirai-udpplain/Mirai-udpplain9.pcap.csv', 'Recon-HostDiscovery/Recon-HostDiscovery.pcap.csv', 'Recon-OSScan/Recon-OSScan.pcap.csv', 'Recon-PingSweep/Recon-PingSweep.pcap.csv', 'Recon-PortScan/Recon-PortScan.pcap.csv', 'SqlInjection/SqlInjection.pcap.csv', 'Uploading_Attack/Uploading_Attack.pcap.csv', 'VulnerabilityScan/VulnerabilityScan.pcap.csv', 'XSS/XSS.pcap.csv']\n",
      "Number of training files: 229\n",
      "Number of test files: 58\n"
     ]
    }
   ],
   "source": [
    "import os\n",
    "\n",
    "Dataset_Directory = '/home/jbenyam/threatdetection/dataset/csv' # Directory where the dataset is stored\n",
    "\n",
    "# List all files in the directory and subdirectories\n",
    "def get_all_csv_files(directory):\n",
    "    csv_files = []\n",
    "    for root, dirs, files in os.walk(directory):\n",
    "        for file in files:\n",
    "            if file.endswith('.csv'):\n",
    "                csv_files.append(os.path.relpath(os.path.join(root, file), start=directory))\n",
    "    return csv_files\n",
    "\n",
    "df_sets = get_all_csv_files(Dataset_Directory)\n",
    "df_sets.sort() # Sort the files\n",
    "\n",
    "print(f\"Total CSV files found: {len(df_sets)}\")\n",
    "print(\"Files:\", df_sets)\n",
    "\n",
    "# Split the data set into training 80% and test 20%\n",
    "train_set = df_sets[:int(len(df_sets)*0.8)]\n",
    "test_set = df_sets[int(len(df_sets)*0.8):]\n",
    "\n",
    "print(f\"Number of training files: {len(train_set)}\")\n",
    "print(f\"Number of test files: {len(test_set)}\")\n",
    "\n",
    "# If you need full paths for loading data later\n",
    "# train_set_full_path = [os.path.join(Dataset_Directory, file) for file in train_set]\n",
    "# test_set_full_path = [os.path.join(Dataset_Directory, file) for file in test_set]\n",
    "\n",
    "#print(\"Train files full paths:\", train_set_full_path)\n",
    "#print(\"Test files full paths:\", test_set_full_path)\n"
   ]
  },
  {
   "cell_type": "code",
   "execution_count": 31,
   "metadata": {},
   "outputs": [
    {
     "name": "stdout",
     "output_type": "stream",
     "text": [
      "['Backdoor_Malware/Backdoor_Malware.pcap.csv', 'Benign_Final/BenignTraffic.pcap.csv', 'Benign_Final/BenignTraffic1.pcap.csv', 'Benign_Final/BenignTraffic2.pcap.csv', 'Benign_Final/BenignTraffic3.pcap.csv', 'BrowserHijacking/BrowserHijacking.pcap.csv', 'CommandInjection/CommandInjection.pcap.csv', 'DDoS-HTTP_Flood/DDoS-HTTP_Flood-.pcap.csv', 'DDoS-ICMP_Flood/DDoS-ICMP_Flood.pcap.csv', 'DDoS-ICMP_Flood/DDoS-ICMP_Flood1.pcap.csv', 'DDoS-ICMP_Flood/DDoS-ICMP_Flood10.pcap.csv', 'DDoS-ICMP_Flood/DDoS-ICMP_Flood11.pcap.csv', 'DDoS-ICMP_Flood/DDoS-ICMP_Flood12.pcap.csv', 'DDoS-ICMP_Flood/DDoS-ICMP_Flood13.pcap.csv', 'DDoS-ICMP_Flood/DDoS-ICMP_Flood14.pcap.csv', 'DDoS-ICMP_Flood/DDoS-ICMP_Flood15.pcap.csv', 'DDoS-ICMP_Flood/DDoS-ICMP_Flood16.pcap.csv', 'DDoS-ICMP_Flood/DDoS-ICMP_Flood17.pcap.csv', 'DDoS-ICMP_Flood/DDoS-ICMP_Flood18.pcap.csv', 'DDoS-ICMP_Flood/DDoS-ICMP_Flood19.pcap.csv', 'DDoS-ICMP_Flood/DDoS-ICMP_Flood2.pcap.csv', 'DDoS-ICMP_Flood/DDoS-ICMP_Flood20.pcap.csv', 'DDoS-ICMP_Flood/DDoS-ICMP_Flood21.pcap.csv', 'DDoS-ICMP_Flood/DDoS-ICMP_Flood22.pcap.csv', 'DDoS-ICMP_Flood/DDoS-ICMP_Flood23.pcap.csv', 'DDoS-ICMP_Flood/DDoS-ICMP_Flood24.pcap.csv', 'DDoS-ICMP_Flood/DDoS-ICMP_Flood25.pcap.csv', 'DDoS-ICMP_Flood/DDoS-ICMP_Flood26.pcap.csv', 'DDoS-ICMP_Flood/DDoS-ICMP_Flood3.pcap.csv', 'DDoS-ICMP_Flood/DDoS-ICMP_Flood4.pcap.csv', 'DDoS-ICMP_Flood/DDoS-ICMP_Flood5.pcap.csv', 'DDoS-ICMP_Flood/DDoS-ICMP_Flood6.pcap.csv', 'DDoS-ICMP_Flood/DDoS-ICMP_Flood7.pcap.csv', 'DDoS-ICMP_Flood/DDoS-ICMP_Flood8.pcap.csv', 'DDoS-ICMP_Flood/DDoS-ICMP_Flood9.pcap.csv', 'DDoS-ICMP_Fragmentation/DDoS-ICMP_Fragmentation.pcap.csv', 'DDoS-ICMP_Fragmentation/DDoS-ICMP_Fragmentation1.pcap.csv', 'DDoS-ICMP_Fragmentation/DDoS-ICMP_Fragmentation10.pcap.csv', 'DDoS-ICMP_Fragmentation/DDoS-ICMP_Fragmentation11.pcap.csv', 'DDoS-ICMP_Fragmentation/DDoS-ICMP_Fragmentation12.pcap.csv', 'DDoS-ICMP_Fragmentation/DDoS-ICMP_Fragmentation13.pcap.csv', 'DDoS-ICMP_Fragmentation/DDoS-ICMP_Fragmentation14.pcap.csv', 'DDoS-ICMP_Fragmentation/DDoS-ICMP_Fragmentation15.pcap.csv', 'DDoS-ICMP_Fragmentation/DDoS-ICMP_Fragmentation16.pcap.csv', 'DDoS-ICMP_Fragmentation/DDoS-ICMP_Fragmentation17.pcap.csv', 'DDoS-ICMP_Fragmentation/DDoS-ICMP_Fragmentation18.pcap.csv', 'DDoS-ICMP_Fragmentation/DDoS-ICMP_Fragmentation19.pcap.csv', 'DDoS-ICMP_Fragmentation/DDoS-ICMP_Fragmentation2.pcap.csv', 'DDoS-ICMP_Fragmentation/DDoS-ICMP_Fragmentation3.pcap.csv', 'DDoS-ICMP_Fragmentation/DDoS-ICMP_Fragmentation4.pcap.csv', 'DDoS-ICMP_Fragmentation/DDoS-ICMP_Fragmentation5.pcap.csv', 'DDoS-ICMP_Fragmentation/DDoS-ICMP_Fragmentation6.pcap.csv', 'DDoS-ICMP_Fragmentation/DDoS-ICMP_Fragmentation7.pcap.csv', 'DDoS-ICMP_Fragmentation/DDoS-ICMP_Fragmentation8.pcap.csv', 'DDoS-ICMP_Fragmentation/DDoS-ICMP_Fragmentation9.pcap.csv', 'DDoS-PSHACK_FLOOD/DDoS-PSHACK_Flood.pcap.csv', 'DDoS-PSHACK_FLOOD/DDoS-PSHACK_Flood1.pcap.csv', 'DDoS-PSHACK_FLOOD/DDoS-PSHACK_Flood10.pcap.csv', 'DDoS-PSHACK_FLOOD/DDoS-PSHACK_Flood11.pcap.csv', 'DDoS-PSHACK_FLOOD/DDoS-PSHACK_Flood12.pcap.csv', 'DDoS-PSHACK_FLOOD/DDoS-PSHACK_Flood13.pcap.csv', 'DDoS-PSHACK_FLOOD/DDoS-PSHACK_Flood14.pcap.csv', 'DDoS-PSHACK_FLOOD/DDoS-PSHACK_Flood15.pcap.csv', 'DDoS-PSHACK_FLOOD/DDoS-PSHACK_Flood2.pcap.csv', 'DDoS-PSHACK_FLOOD/DDoS-PSHACK_Flood3.pcap.csv', 'DDoS-PSHACK_FLOOD/DDoS-PSHACK_Flood4.pcap.csv', 'DDoS-PSHACK_FLOOD/DDoS-PSHACK_Flood5.pcap.csv', 'DDoS-PSHACK_FLOOD/DDoS-PSHACK_Flood6.pcap.csv', 'DDoS-PSHACK_FLOOD/DDoS-PSHACK_Flood7.pcap.csv', 'DDoS-PSHACK_FLOOD/DDoS-PSHACK_Flood8.pcap.csv', 'DDoS-PSHACK_FLOOD/DDoS-PSHACK_Flood9.pcap.csv', 'DDoS-RSTFINFLOOD/DDoS-RSTFINFlood.pcap.csv', 'DDoS-RSTFINFLOOD/DDoS-RSTFINFlood1.pcap.csv', 'DDoS-RSTFINFLOOD/DDoS-RSTFINFlood10.pcap.csv', 'DDoS-RSTFINFLOOD/DDoS-RSTFINFlood11.pcap.csv', 'DDoS-RSTFINFLOOD/DDoS-RSTFINFlood12.pcap.csv', 'DDoS-RSTFINFLOOD/DDoS-RSTFINFlood13.pcap.csv', 'DDoS-RSTFINFLOOD/DDoS-RSTFINFlood14.pcap.csv', 'DDoS-RSTFINFLOOD/DDoS-RSTFINFlood15.pcap.csv', 'DDoS-RSTFINFLOOD/DDoS-RSTFINFlood2.pcap.csv', 'DDoS-RSTFINFLOOD/DDoS-RSTFINFlood3.pcap.csv', 'DDoS-RSTFINFLOOD/DDoS-RSTFINFlood4.pcap.csv', 'DDoS-RSTFINFLOOD/DDoS-RSTFINFlood5.pcap.csv', 'DDoS-RSTFINFLOOD/DDoS-RSTFINFlood6.pcap.csv', 'DDoS-RSTFINFLOOD/DDoS-RSTFINFlood7.pcap.csv', 'DDoS-RSTFINFLOOD/DDoS-RSTFINFlood8.pcap.csv', 'DDoS-RSTFINFLOOD/DDoS-RSTFINFlood9.pcap.csv', 'DDoS-SYN_Flood/DDoS-SYN_Flood.pcap.csv', 'DDoS-SYN_Flood/DDoS-SYN_Flood1.pcap.csv', 'DDoS-SYN_Flood/DDoS-SYN_Flood10.pcap.csv', 'DDoS-SYN_Flood/DDoS-SYN_Flood11.pcap.csv', 'DDoS-SYN_Flood/DDoS-SYN_Flood12.pcap.csv', 'DDoS-SYN_Flood/DDoS-SYN_Flood13.pcap.csv', 'DDoS-SYN_Flood/DDoS-SYN_Flood14.pcap.csv', 'DDoS-SYN_Flood/DDoS-SYN_Flood15.pcap.csv', 'DDoS-SYN_Flood/DDoS-SYN_Flood2.pcap.csv', 'DDoS-SYN_Flood/DDoS-SYN_Flood3.pcap.csv', 'DDoS-SYN_Flood/DDoS-SYN_Flood4.pcap.csv', 'DDoS-SYN_Flood/DDoS-SYN_Flood5.pcap.csv', 'DDoS-SYN_Flood/DDoS-SYN_Flood6.pcap.csv', 'DDoS-SYN_Flood/DDoS-SYN_Flood7.pcap.csv', 'DDoS-SYN_Flood/DDoS-SYN_Flood8.pcap.csv', 'DDoS-SYN_Flood/DDoS-SYN_Flood9.pcap.csv', 'DDoS-SlowLoris/DDoS-SlowLoris.pcap.csv', 'DDoS-SynonymousIP_Flood/DDoS-SynonymousIP_Flood.pcap.csv', 'DDoS-SynonymousIP_Flood/DDoS-SynonymousIP_Flood1.pcap.csv', 'DDoS-SynonymousIP_Flood/DDoS-SynonymousIP_Flood10.pcap.csv', 'DDoS-SynonymousIP_Flood/DDoS-SynonymousIP_Flood11.pcap.csv', 'DDoS-SynonymousIP_Flood/DDoS-SynonymousIP_Flood12.pcap.csv', 'DDoS-SynonymousIP_Flood/DDoS-SynonymousIP_Flood13.pcap.csv', 'DDoS-SynonymousIP_Flood/DDoS-SynonymousIP_Flood2.pcap.csv', 'DDoS-SynonymousIP_Flood/DDoS-SynonymousIP_Flood3.pcap.csv', 'DDoS-SynonymousIP_Flood/DDoS-SynonymousIP_Flood4.pcap.csv', 'DDoS-SynonymousIP_Flood/DDoS-SynonymousIP_Flood5.pcap.csv', 'DDoS-SynonymousIP_Flood/DDoS-SynonymousIP_Flood6.pcap.csv', 'DDoS-SynonymousIP_Flood/DDoS-SynonymousIP_Flood7.pcap.csv', 'DDoS-SynonymousIP_Flood/DDoS-SynonymousIP_Flood8.pcap.csv', 'DDoS-SynonymousIP_Flood/DDoS-SynonymousIP_Flood9.pcap.csv', 'DDoS-TCP_Flood/DDoS-TCP_Flood.pcap.csv', 'DDoS-TCP_Flood/DDoS-TCP_Flood1.pcap.csv', 'DDoS-TCP_Flood/DDoS-TCP_Flood10.pcap.csv', 'DDoS-TCP_Flood/DDoS-TCP_Flood11.pcap.csv', 'DDoS-TCP_Flood/DDoS-TCP_Flood12.pcap.csv', 'DDoS-TCP_Flood/DDoS-TCP_Flood13.pcap.csv', 'DDoS-TCP_Flood/DDoS-TCP_Flood14.pcap.csv', 'DDoS-TCP_Flood/DDoS-TCP_Flood15.pcap.csv', 'DDoS-TCP_Flood/DDoS-TCP_Flood16.pcap.csv', 'DDoS-TCP_Flood/DDoS-TCP_Flood17.pcap.csv', 'DDoS-TCP_Flood/DDoS-TCP_Flood2.pcap.csv', 'DDoS-TCP_Flood/DDoS-TCP_Flood3.pcap.csv', 'DDoS-TCP_Flood/DDoS-TCP_Flood4.pcap.csv', 'DDoS-TCP_Flood/DDoS-TCP_Flood5.pcap.csv', 'DDoS-TCP_Flood/DDoS-TCP_Flood6.pcap.csv', 'DDoS-TCP_Flood/DDoS-TCP_Flood7.pcap.csv', 'DDoS-TCP_Flood/DDoS-TCP_Flood8.pcap.csv', 'DDoS-TCP_Flood/DDoS-TCP_Flood9.pcap.csv', 'DDoS-UDP_Flood/DDoS-UDP_Flood.pcap.csv', 'DDoS-UDP_Flood/DDoS-UDP_Flood1.pcap.csv', 'DDoS-UDP_Flood/DDoS-UDP_Flood10.pcap.csv', 'DDoS-UDP_Flood/DDoS-UDP_Flood11.pcap.csv', 'DDoS-UDP_Flood/DDoS-UDP_Flood12.pcap.csv', 'DDoS-UDP_Flood/DDoS-UDP_Flood13.pcap.csv', 'DDoS-UDP_Flood/DDoS-UDP_Flood14.pcap.csv', 'DDoS-UDP_Flood/DDoS-UDP_Flood15.pcap.csv', 'DDoS-UDP_Flood/DDoS-UDP_Flood16.pcap.csv', 'DDoS-UDP_Flood/DDoS-UDP_Flood17.pcap.csv', 'DDoS-UDP_Flood/DDoS-UDP_Flood18.pcap.csv', 'DDoS-UDP_Flood/DDoS-UDP_Flood19.pcap.csv', 'DDoS-UDP_Flood/DDoS-UDP_Flood2.pcap.csv', 'DDoS-UDP_Flood/DDoS-UDP_Flood20.pcap.csv', 'DDoS-UDP_Flood/DDoS-UDP_Flood3.pcap.csv', 'DDoS-UDP_Flood/DDoS-UDP_Flood4.pcap.csv', 'DDoS-UDP_Flood/DDoS-UDP_Flood5.pcap.csv', 'DDoS-UDP_Flood/DDoS-UDP_Flood6.pcap.csv', 'DDoS-UDP_Flood/DDoS-UDP_Flood7.pcap.csv', 'DDoS-UDP_Flood/DDoS-UDP_Flood8.pcap.csv', 'DDoS-UDP_Flood/DDoS-UDP_Flood9.pcap.csv', 'DNS_Spoofing/DNS_Spoofing.pcap.csv', 'DictionaryBruteForce/DictionaryBruteForce.pcap.csv', 'DoS-HTTP_Flood/DoS-HTTP_Flood.pcap.csv', 'DoS-HTTP_Flood/DoS-HTTP_Flood1.pcap.csv', 'DoS-SYN_Flood/DoS-SYN_Flood.pcap.csv', 'DoS-SYN_Flood/DoS-SYN_Flood1.pcap.csv', 'DoS-SYN_Flood/DoS-SYN_Flood2.pcap.csv', 'DoS-SYN_Flood/DoS-SYN_Flood3.pcap.csv', 'DoS-SYN_Flood/DoS-SYN_Flood4.pcap.csv', 'DoS-SYN_Flood/DoS-SYN_Flood5.pcap.csv', 'DoS-SYN_Flood/DoS-SYN_Flood6.pcap.csv', 'DoS-SYN_Flood/DoS-SYN_Flood7.pcap.csv', 'DoS-TCP_Flood/DoS-TCP_Flood.pcap.csv', 'DoS-TCP_Flood/DoS-TCP_Flood1.pcap.csv', 'DoS-TCP_Flood/DoS-TCP_Flood10.pcap.csv', 'DoS-TCP_Flood/DoS-TCP_Flood3.pcap.csv', 'DoS-TCP_Flood/DoS-TCP_Flood4.pcap.csv', 'DoS-TCP_Flood/DoS-TCP_Flood5.pcap.csv', 'DoS-TCP_Flood/DoS-TCP_Flood6.pcap.csv', 'DoS-TCP_Flood/DoS-TCP_Flood7.pcap.csv', 'DoS-TCP_Flood/DoS-TCP_Flood8.pcap.csv', 'DoS-TCP_Flood/DoS-TCP_Flood9.pcap.csv', 'DoS-UDP_Flood/DoS-UDP_Flood.pcap.csv', 'DoS-UDP_Flood/DoS-UDP_Flood1.pcap.csv', 'DoS-UDP_Flood/DoS-UDP_Flood10.pcap.csv', 'DoS-UDP_Flood/DoS-UDP_Flood11.pcap.csv', 'DoS-UDP_Flood/DoS-UDP_Flood12.pcap.csv', 'DoS-UDP_Flood/DoS-UDP_Flood13.pcap.csv', 'DoS-UDP_Flood/DoS-UDP_Flood14.pcap.csv', 'DoS-UDP_Flood/DoS-UDP_Flood15.pcap.csv', 'DoS-UDP_Flood/DoS-UDP_Flood16.pcap.csv', 'DoS-UDP_Flood/DoS-UDP_Flood2.pcap.csv', 'DoS-UDP_Flood/DoS-UDP_Flood3.pcap.csv', 'DoS-UDP_Flood/DoS-UDP_Flood4.pcap.csv', 'DoS-UDP_Flood/DoS-UDP_Flood5.pcap.csv', 'DoS-UDP_Flood/DoS-UDP_Flood6.pcap.csv', 'DoS-UDP_Flood/DoS-UDP_Flood7.pcap.csv', 'DoS-UDP_Flood/DoS-UDP_Flood8.pcap.csv', 'DoS-UDP_Flood/DoS-UDP_Flood9.pcap.csv', 'DoS-UDP_Fragmentation/DDoS-UDP_Fragmentation.pcap.csv', 'DoS-UDP_Fragmentation/DDoS-UDP_Fragmentation1.pcap.csv', 'DoS-UDP_Fragmentation/DDoS-UDP_Fragmentation10.pcap.csv', 'DoS-UDP_Fragmentation/DDoS-UDP_Fragmentation11.pcap.csv', 'DoS-UDP_Fragmentation/DDoS-UDP_Fragmentation12.pcap.csv', 'DoS-UDP_Fragmentation/DDoS-UDP_Fragmentation2.pcap.csv', 'DoS-UDP_Fragmentation/DDoS-UDP_Fragmentation3.pcap.csv', 'DoS-UDP_Fragmentation/DDoS-UDP_Fragmentation4.pcap.csv', 'DoS-UDP_Fragmentation/DDoS-UDP_Fragmentation5.pcap.csv', 'DoS-UDP_Fragmentation/DDoS-UDP_Fragmentation6.pcap.csv', 'DoS-UDP_Fragmentation/DDoS-UDP_Fragmentation7.pcap.csv', 'DoS-UDP_Fragmentation/DDoS-UDP_Fragmentation8.pcap.csv', 'DoS-UDP_Fragmentation/DDoS-UDP_Fragmentation9.pcap.csv', 'MITM-ArpSpoofing/MITM-ArpSpoofing.pcap.csv', 'MITM-ArpSpoofing/MITM-ArpSpoofing1.pcap.csv', 'Mirai-greeth_flood/Mirai-greeth_flood.pcap.csv', 'Mirai-greeth_flood/Mirai-greeth_flood1.pcap.csv', 'Mirai-greeth_flood/Mirai-greeth_flood10.pcap.csv', 'Mirai-greeth_flood/Mirai-greeth_flood11.pcap.csv', 'Mirai-greeth_flood/Mirai-greeth_flood12.pcap.csv', 'Mirai-greeth_flood/Mirai-greeth_flood13.pcap.csv', 'Mirai-greeth_flood/Mirai-greeth_flood14.pcap.csv', 'Mirai-greeth_flood/Mirai-greeth_flood15.pcap.csv', 'Mirai-greeth_flood/Mirai-greeth_flood16.pcap.csv', 'Mirai-greeth_flood/Mirai-greeth_flood17.pcap.csv', 'Mirai-greeth_flood/Mirai-greeth_flood18.pcap.csv', 'Mirai-greeth_flood/Mirai-greeth_flood19.pcap.csv', 'Mirai-greeth_flood/Mirai-greeth_flood2.pcap.csv', 'Mirai-greeth_flood/Mirai-greeth_flood20.pcap.csv', 'Mirai-greeth_flood/Mirai-greeth_flood3.pcap.csv', 'Mirai-greeth_flood/Mirai-greeth_flood4.pcap.csv', 'Mirai-greeth_flood/Mirai-greeth_flood5.pcap.csv', 'Mirai-greeth_flood/Mirai-greeth_flood6.pcap.csv']\n",
      "['Mirai-greeth_flood/Mirai-greeth_flood7.pcap.csv', 'Mirai-greeth_flood/Mirai-greeth_flood8.pcap.csv', 'Mirai-greeth_flood/Mirai-greeth_flood9.pcap.csv', 'Mirai-greip_flood/Mirai-greip_flood.pcap.csv', 'Mirai-greip_flood/Mirai-greip_flood1.pcap.csv', 'Mirai-greip_flood/Mirai-greip_flood10.pcap.csv', 'Mirai-greip_flood/Mirai-greip_flood11.pcap.csv', 'Mirai-greip_flood/Mirai-greip_flood12.pcap.csv', 'Mirai-greip_flood/Mirai-greip_flood13.pcap.csv', 'Mirai-greip_flood/Mirai-greip_flood14.pcap.csv', 'Mirai-greip_flood/Mirai-greip_flood15.pcap.csv', 'Mirai-greip_flood/Mirai-greip_flood16.pcap.csv', 'Mirai-greip_flood/Mirai-greip_flood17.pcap.csv', 'Mirai-greip_flood/Mirai-greip_flood18.pcap.csv', 'Mirai-greip_flood/Mirai-greip_flood19.pcap.csv', 'Mirai-greip_flood/Mirai-greip_flood2.pcap.csv', 'Mirai-greip_flood/Mirai-greip_flood20.pcap.csv', 'Mirai-greip_flood/Mirai-greip_flood21.pcap.csv', 'Mirai-greip_flood/Mirai-greip_flood3.pcap.csv', 'Mirai-greip_flood/Mirai-greip_flood4.pcap.csv', 'Mirai-greip_flood/Mirai-greip_flood5.pcap.csv', 'Mirai-greip_flood/Mirai-greip_flood6.pcap.csv', 'Mirai-greip_flood/Mirai-greip_flood7.pcap.csv', 'Mirai-greip_flood/Mirai-greip_flood8.pcap.csv', 'Mirai-greip_flood/Mirai-greip_flood9.pcap.csv', 'Mirai-udpplain/Mirai-udpplain.pcap.csv', 'Mirai-udpplain/Mirai-udpplain1.pcap.csv', 'Mirai-udpplain/Mirai-udpplain10.pcap.csv', 'Mirai-udpplain/Mirai-udpplain11.pcap.csv', 'Mirai-udpplain/Mirai-udpplain12.pcap.csv', 'Mirai-udpplain/Mirai-udpplain13.pcap.csv', 'Mirai-udpplain/Mirai-udpplain14.pcap.csv', 'Mirai-udpplain/Mirai-udpplain15.pcap.csv', 'Mirai-udpplain/Mirai-udpplain16.pcap.csv', 'Mirai-udpplain/Mirai-udpplain17.pcap.csv', 'Mirai-udpplain/Mirai-udpplain18.pcap.csv', 'Mirai-udpplain/Mirai-udpplain19.pcap.csv', 'Mirai-udpplain/Mirai-udpplain2.pcap.csv', 'Mirai-udpplain/Mirai-udpplain20.pcap.csv', 'Mirai-udpplain/Mirai-udpplain21.pcap.csv', 'Mirai-udpplain/Mirai-udpplain22.pcap.csv', 'Mirai-udpplain/Mirai-udpplain23.pcap.csv', 'Mirai-udpplain/Mirai-udpplain24.pcap.csv', 'Mirai-udpplain/Mirai-udpplain3.pcap.csv', 'Mirai-udpplain/Mirai-udpplain4.pcap.csv', 'Mirai-udpplain/Mirai-udpplain5.pcap.csv', 'Mirai-udpplain/Mirai-udpplain6.pcap.csv', 'Mirai-udpplain/Mirai-udpplain7.pcap.csv', 'Mirai-udpplain/Mirai-udpplain8.pcap.csv', 'Mirai-udpplain/Mirai-udpplain9.pcap.csv', 'Recon-HostDiscovery/Recon-HostDiscovery.pcap.csv', 'Recon-OSScan/Recon-OSScan.pcap.csv', 'Recon-PingSweep/Recon-PingSweep.pcap.csv', 'Recon-PortScan/Recon-PortScan.pcap.csv', 'SqlInjection/SqlInjection.pcap.csv', 'Uploading_Attack/Uploading_Attack.pcap.csv', 'VulnerabilityScan/VulnerabilityScan.pcap.csv', 'XSS/XSS.pcap.csv']\n"
     ]
    }
   ],
   "source": [
    "print(train_set)\n",
    "print(test_set)\n"
   ]
  },
  {
   "cell_type": "code",
   "execution_count": 35,
   "metadata": {},
   "outputs": [],
   "source": [
    "# X_columns: list of columns to use as features\n",
    "# Y_column: column to predict\n",
    "# Model: model to use (logistic regression)\n",
    "\n",
    "X_columns = [\n",
    "    'flow_duration', 'Header_Length', 'Protocol Type', 'Duration',\n",
    "    'Rate', 'Srate', 'Drate', 'fin_flag_number', 'syn_flag_number',\n",
    "    'rst_flag_number', 'psh_flag_number', 'ack_flag_number',\n",
    "    'ece_flag_number', 'cwr_flag_number', 'ack_count',\n",
    "    'syn_count', 'fin_count', 'urg_count', 'rst_count',\n",
    "    'HTTP', 'HTTPS', 'DNS', 'Telnet', 'SMTP', 'SSH', 'IRC', 'TCP',\n",
    "    'UDP', 'DHCP', 'ARP', 'ICMP', 'IPv', 'LLC', 'Tot sum', 'Min',\n",
    "    'Max', 'AVG', 'Std', 'Tot size', 'IAT', 'Number', 'Magnitue',\n",
    "    'Radius', 'Covariance', 'Variance', 'Weight',\n",
    "]\n",
    "y_column = 'label'\n"
   ]
  },
  {
   "cell_type": "markdown",
   "metadata": {},
   "source": []
  },
  {
   "cell_type": "markdown",
   "metadata": {},
   "source": []
  },
  {
   "cell_type": "markdown",
   "metadata": {},
   "source": [
    "\n",
    "#### Scaling Features & Fitting the Scaler"
   ]
  },
  {
   "cell_type": "code",
   "execution_count": 36,
   "metadata": {},
   "outputs": [
    {
     "name": "stderr",
     "output_type": "stream",
     "text": [
      "  0%|          | 0/229 [00:00<?, ?it/s]"
     ]
    },
    {
     "name": "stdout",
     "output_type": "stream",
     "text": [
      "Warning: Not all specified columns are present in Backdoor_Malware/Backdoor_Malware.pcap.csv\n"
     ]
    },
    {
     "name": "stderr",
     "output_type": "stream",
     "text": [
      "  1%|          | 2/229 [00:00<01:09,  3.27it/s]"
     ]
    },
    {
     "name": "stdout",
     "output_type": "stream",
     "text": [
      "Warning: Not all specified columns are present in Benign_Final/BenignTraffic.pcap.csv\n"
     ]
    },
    {
     "name": "stderr",
     "output_type": "stream",
     "text": [
      "  1%|▏         | 3/229 [00:01<01:23,  2.69it/s]"
     ]
    },
    {
     "name": "stdout",
     "output_type": "stream",
     "text": [
      "Warning: Not all specified columns are present in Benign_Final/BenignTraffic1.pcap.csv\n"
     ]
    },
    {
     "name": "stderr",
     "output_type": "stream",
     "text": [
      "  2%|▏         | 5/229 [00:01<01:04,  3.50it/s]"
     ]
    },
    {
     "name": "stdout",
     "output_type": "stream",
     "text": [
      "Warning: Not all specified columns are present in Benign_Final/BenignTraffic2.pcap.csv\n",
      "Warning: Not all specified columns are present in Benign_Final/BenignTraffic3.pcap.csv\n",
      "Warning: Not all specified columns are present in BrowserHijacking/BrowserHijacking.pcap.csv\n",
      "Warning: Not all specified columns are present in CommandInjection/CommandInjection.pcap.csv\n",
      "Warning: Not all specified columns are present in DDoS-HTTP_Flood/DDoS-HTTP_Flood-.pcap.csv\n"
     ]
    },
    {
     "name": "stderr",
     "output_type": "stream",
     "text": [
      "  4%|▍         | 9/229 [00:01<00:32,  6.69it/s]"
     ]
    },
    {
     "name": "stdout",
     "output_type": "stream",
     "text": [
      "Warning: Not all specified columns are present in DDoS-ICMP_Flood/DDoS-ICMP_Flood.pcap.csv\n"
     ]
    },
    {
     "name": "stderr",
     "output_type": "stream",
     "text": [
      "  4%|▍         | 10/229 [00:02<00:39,  5.55it/s]"
     ]
    },
    {
     "name": "stdout",
     "output_type": "stream",
     "text": [
      "Warning: Not all specified columns are present in DDoS-ICMP_Flood/DDoS-ICMP_Flood1.pcap.csv\n"
     ]
    },
    {
     "name": "stderr",
     "output_type": "stream",
     "text": [
      "  5%|▍         | 11/229 [00:02<00:43,  4.97it/s]"
     ]
    },
    {
     "name": "stdout",
     "output_type": "stream",
     "text": [
      "Warning: Not all specified columns are present in DDoS-ICMP_Flood/DDoS-ICMP_Flood10.pcap.csv\n"
     ]
    },
    {
     "name": "stderr",
     "output_type": "stream",
     "text": [
      "  5%|▌         | 12/229 [00:02<00:45,  4.72it/s]"
     ]
    },
    {
     "name": "stdout",
     "output_type": "stream",
     "text": [
      "Warning: Not all specified columns are present in DDoS-ICMP_Flood/DDoS-ICMP_Flood11.pcap.csv\n"
     ]
    },
    {
     "name": "stderr",
     "output_type": "stream",
     "text": [
      "  6%|▌         | 13/229 [00:02<00:47,  4.57it/s]"
     ]
    },
    {
     "name": "stdout",
     "output_type": "stream",
     "text": [
      "Warning: Not all specified columns are present in DDoS-ICMP_Flood/DDoS-ICMP_Flood12.pcap.csv\n"
     ]
    },
    {
     "name": "stderr",
     "output_type": "stream",
     "text": [
      "  6%|▌         | 14/229 [00:03<00:48,  4.44it/s]"
     ]
    },
    {
     "name": "stdout",
     "output_type": "stream",
     "text": [
      "Warning: Not all specified columns are present in DDoS-ICMP_Flood/DDoS-ICMP_Flood13.pcap.csv\n"
     ]
    },
    {
     "name": "stderr",
     "output_type": "stream",
     "text": [
      "  7%|▋         | 15/229 [00:03<00:49,  4.36it/s]"
     ]
    },
    {
     "name": "stdout",
     "output_type": "stream",
     "text": [
      "Warning: Not all specified columns are present in DDoS-ICMP_Flood/DDoS-ICMP_Flood14.pcap.csv\n"
     ]
    },
    {
     "name": "stderr",
     "output_type": "stream",
     "text": [
      "  7%|▋         | 16/229 [00:03<00:51,  4.15it/s]"
     ]
    },
    {
     "name": "stdout",
     "output_type": "stream",
     "text": [
      "Warning: Not all specified columns are present in DDoS-ICMP_Flood/DDoS-ICMP_Flood15.pcap.csv\n"
     ]
    },
    {
     "name": "stderr",
     "output_type": "stream",
     "text": [
      "  7%|▋         | 17/229 [00:03<00:51,  4.14it/s]"
     ]
    },
    {
     "name": "stdout",
     "output_type": "stream",
     "text": [
      "Warning: Not all specified columns are present in DDoS-ICMP_Flood/DDoS-ICMP_Flood16.pcap.csv\n"
     ]
    },
    {
     "name": "stderr",
     "output_type": "stream",
     "text": [
      "  8%|▊         | 18/229 [00:04<00:51,  4.12it/s]"
     ]
    },
    {
     "name": "stdout",
     "output_type": "stream",
     "text": [
      "Warning: Not all specified columns are present in DDoS-ICMP_Flood/DDoS-ICMP_Flood17.pcap.csv\n"
     ]
    },
    {
     "name": "stderr",
     "output_type": "stream",
     "text": [
      "  8%|▊         | 19/229 [00:04<00:51,  4.12it/s]"
     ]
    },
    {
     "name": "stdout",
     "output_type": "stream",
     "text": [
      "Warning: Not all specified columns are present in DDoS-ICMP_Flood/DDoS-ICMP_Flood18.pcap.csv\n"
     ]
    },
    {
     "name": "stderr",
     "output_type": "stream",
     "text": [
      "  9%|▊         | 20/229 [00:04<00:50,  4.10it/s]"
     ]
    },
    {
     "name": "stdout",
     "output_type": "stream",
     "text": [
      "Warning: Not all specified columns are present in DDoS-ICMP_Flood/DDoS-ICMP_Flood19.pcap.csv\n"
     ]
    },
    {
     "name": "stderr",
     "output_type": "stream",
     "text": [
      "  9%|▉         | 21/229 [00:04<00:51,  4.08it/s]"
     ]
    },
    {
     "name": "stdout",
     "output_type": "stream",
     "text": [
      "Warning: Not all specified columns are present in DDoS-ICMP_Flood/DDoS-ICMP_Flood2.pcap.csv\n"
     ]
    },
    {
     "name": "stderr",
     "output_type": "stream",
     "text": [
      " 10%|▉         | 22/229 [00:05<00:51,  4.05it/s]"
     ]
    },
    {
     "name": "stdout",
     "output_type": "stream",
     "text": [
      "Warning: Not all specified columns are present in DDoS-ICMP_Flood/DDoS-ICMP_Flood20.pcap.csv\n"
     ]
    },
    {
     "name": "stderr",
     "output_type": "stream",
     "text": [
      " 10%|█         | 23/229 [00:05<00:51,  4.03it/s]"
     ]
    },
    {
     "name": "stdout",
     "output_type": "stream",
     "text": [
      "Warning: Not all specified columns are present in DDoS-ICMP_Flood/DDoS-ICMP_Flood21.pcap.csv\n"
     ]
    },
    {
     "name": "stderr",
     "output_type": "stream",
     "text": [
      " 10%|█         | 24/229 [00:05<00:50,  4.04it/s]"
     ]
    },
    {
     "name": "stdout",
     "output_type": "stream",
     "text": [
      "Warning: Not all specified columns are present in DDoS-ICMP_Flood/DDoS-ICMP_Flood22.pcap.csv\n"
     ]
    },
    {
     "name": "stderr",
     "output_type": "stream",
     "text": [
      " 11%|█         | 25/229 [00:05<00:51,  3.96it/s]"
     ]
    },
    {
     "name": "stdout",
     "output_type": "stream",
     "text": [
      "Warning: Not all specified columns are present in DDoS-ICMP_Flood/DDoS-ICMP_Flood23.pcap.csv\n"
     ]
    },
    {
     "name": "stderr",
     "output_type": "stream",
     "text": [
      " 11%|█▏        | 26/229 [00:06<00:50,  4.05it/s]"
     ]
    },
    {
     "name": "stdout",
     "output_type": "stream",
     "text": [
      "Warning: Not all specified columns are present in DDoS-ICMP_Flood/DDoS-ICMP_Flood24.pcap.csv\n"
     ]
    },
    {
     "name": "stderr",
     "output_type": "stream",
     "text": [
      " 12%|█▏        | 27/229 [00:06<00:50,  4.02it/s]"
     ]
    },
    {
     "name": "stdout",
     "output_type": "stream",
     "text": [
      "Warning: Not all specified columns are present in DDoS-ICMP_Flood/DDoS-ICMP_Flood25.pcap.csv\n"
     ]
    },
    {
     "name": "stderr",
     "output_type": "stream",
     "text": [
      " 12%|█▏        | 28/229 [00:06<00:49,  4.04it/s]"
     ]
    },
    {
     "name": "stdout",
     "output_type": "stream",
     "text": [
      "Warning: Not all specified columns are present in DDoS-ICMP_Flood/DDoS-ICMP_Flood26.pcap.csv\n"
     ]
    },
    {
     "name": "stderr",
     "output_type": "stream",
     "text": [
      " 13%|█▎        | 29/229 [00:06<00:48,  4.11it/s]"
     ]
    },
    {
     "name": "stdout",
     "output_type": "stream",
     "text": [
      "Warning: Not all specified columns are present in DDoS-ICMP_Flood/DDoS-ICMP_Flood3.pcap.csv\n"
     ]
    },
    {
     "name": "stderr",
     "output_type": "stream",
     "text": [
      " 13%|█▎        | 30/229 [00:07<00:48,  4.10it/s]"
     ]
    },
    {
     "name": "stdout",
     "output_type": "stream",
     "text": [
      "Warning: Not all specified columns are present in DDoS-ICMP_Flood/DDoS-ICMP_Flood4.pcap.csv\n"
     ]
    },
    {
     "name": "stderr",
     "output_type": "stream",
     "text": [
      " 14%|█▎        | 31/229 [00:07<00:48,  4.06it/s]"
     ]
    },
    {
     "name": "stdout",
     "output_type": "stream",
     "text": [
      "Warning: Not all specified columns are present in DDoS-ICMP_Flood/DDoS-ICMP_Flood5.pcap.csv\n"
     ]
    },
    {
     "name": "stderr",
     "output_type": "stream",
     "text": [
      " 14%|█▍        | 32/229 [00:07<00:48,  4.02it/s]"
     ]
    },
    {
     "name": "stdout",
     "output_type": "stream",
     "text": [
      "Warning: Not all specified columns are present in DDoS-ICMP_Flood/DDoS-ICMP_Flood6.pcap.csv\n"
     ]
    },
    {
     "name": "stderr",
     "output_type": "stream",
     "text": [
      " 14%|█▍        | 33/229 [00:07<00:48,  4.04it/s]"
     ]
    },
    {
     "name": "stdout",
     "output_type": "stream",
     "text": [
      "Warning: Not all specified columns are present in DDoS-ICMP_Flood/DDoS-ICMP_Flood7.pcap.csv\n"
     ]
    },
    {
     "name": "stderr",
     "output_type": "stream",
     "text": [
      " 15%|█▍        | 34/229 [00:08<00:50,  3.88it/s]"
     ]
    },
    {
     "name": "stdout",
     "output_type": "stream",
     "text": [
      "Warning: Not all specified columns are present in DDoS-ICMP_Flood/DDoS-ICMP_Flood8.pcap.csv\n"
     ]
    },
    {
     "name": "stderr",
     "output_type": "stream",
     "text": [
      " 17%|█▋        | 39/229 [00:08<00:21,  8.78it/s]"
     ]
    },
    {
     "name": "stdout",
     "output_type": "stream",
     "text": [
      "Warning: Not all specified columns are present in DDoS-ICMP_Flood/DDoS-ICMP_Flood9.pcap.csv\n",
      "Warning: Not all specified columns are present in DDoS-ICMP_Fragmentation/DDoS-ICMP_Fragmentation.pcap.csv\n",
      "Warning: Not all specified columns are present in DDoS-ICMP_Fragmentation/DDoS-ICMP_Fragmentation1.pcap.csv\n",
      "Warning: Not all specified columns are present in DDoS-ICMP_Fragmentation/DDoS-ICMP_Fragmentation10.pcap.csv\n",
      "Warning: Not all specified columns are present in DDoS-ICMP_Fragmentation/DDoS-ICMP_Fragmentation11.pcap.csv\n",
      "Warning: Not all specified columns are present in DDoS-ICMP_Fragmentation/DDoS-ICMP_Fragmentation12.pcap.csv\n",
      "Warning: Not all specified columns are present in DDoS-ICMP_Fragmentation/DDoS-ICMP_Fragmentation13.pcap.csv\n",
      "Warning: Not all specified columns are present in DDoS-ICMP_Fragmentation/DDoS-ICMP_Fragmentation14.pcap.csv\n"
     ]
    },
    {
     "name": "stderr",
     "output_type": "stream",
     "text": [
      " 21%|██        | 47/229 [00:08<00:10, 18.13it/s]"
     ]
    },
    {
     "name": "stdout",
     "output_type": "stream",
     "text": [
      "Warning: Not all specified columns are present in DDoS-ICMP_Fragmentation/DDoS-ICMP_Fragmentation15.pcap.csv\n",
      "Warning: Not all specified columns are present in DDoS-ICMP_Fragmentation/DDoS-ICMP_Fragmentation16.pcap.csv\n",
      "Warning: Not all specified columns are present in DDoS-ICMP_Fragmentation/DDoS-ICMP_Fragmentation17.pcap.csv\n",
      "Warning: Not all specified columns are present in DDoS-ICMP_Fragmentation/DDoS-ICMP_Fragmentation18.pcap.csv\n",
      "Warning: Not all specified columns are present in DDoS-ICMP_Fragmentation/DDoS-ICMP_Fragmentation19.pcap.csv\n",
      "Warning: Not all specified columns are present in DDoS-ICMP_Fragmentation/DDoS-ICMP_Fragmentation2.pcap.csv\n",
      "Warning: Not all specified columns are present in DDoS-ICMP_Fragmentation/DDoS-ICMP_Fragmentation3.pcap.csv\n",
      "Warning: Not all specified columns are present in DDoS-ICMP_Fragmentation/DDoS-ICMP_Fragmentation4.pcap.csv\n"
     ]
    },
    {
     "name": "stderr",
     "output_type": "stream",
     "text": [
      " 24%|██▍       | 55/229 [00:09<00:06, 26.16it/s]"
     ]
    },
    {
     "name": "stdout",
     "output_type": "stream",
     "text": [
      "Warning: Not all specified columns are present in DDoS-ICMP_Fragmentation/DDoS-ICMP_Fragmentation5.pcap.csv\n",
      "Warning: Not all specified columns are present in DDoS-ICMP_Fragmentation/DDoS-ICMP_Fragmentation6.pcap.csv\n",
      "Warning: Not all specified columns are present in DDoS-ICMP_Fragmentation/DDoS-ICMP_Fragmentation7.pcap.csv\n",
      "Warning: Not all specified columns are present in DDoS-ICMP_Fragmentation/DDoS-ICMP_Fragmentation8.pcap.csv\n",
      "Warning: Not all specified columns are present in DDoS-ICMP_Fragmentation/DDoS-ICMP_Fragmentation9.pcap.csv\n",
      "Warning: Not all specified columns are present in DDoS-PSHACK_FLOOD/DDoS-PSHACK_Flood.pcap.csv\n",
      "Warning: Not all specified columns are present in DDoS-PSHACK_FLOOD/DDoS-PSHACK_Flood1.pcap.csv\n",
      "Warning: Not all specified columns are present in DDoS-PSHACK_FLOOD/DDoS-PSHACK_Flood10.pcap.csv\n"
     ]
    },
    {
     "name": "stderr",
     "output_type": "stream",
     "text": [
      " 26%|██▌       | 59/229 [00:10<00:19,  8.82it/s]"
     ]
    },
    {
     "name": "stdout",
     "output_type": "stream",
     "text": [
      "Warning: Not all specified columns are present in DDoS-PSHACK_FLOOD/DDoS-PSHACK_Flood11.pcap.csv\n",
      "Warning: Not all specified columns are present in DDoS-PSHACK_FLOOD/DDoS-PSHACK_Flood12.pcap.csv\n",
      "Warning: Not all specified columns are present in DDoS-PSHACK_FLOOD/DDoS-PSHACK_Flood13.pcap.csv\n"
     ]
    },
    {
     "name": "stderr",
     "output_type": "stream",
     "text": [
      " 27%|██▋       | 62/229 [00:10<00:25,  6.49it/s]"
     ]
    },
    {
     "name": "stdout",
     "output_type": "stream",
     "text": [
      "Warning: Not all specified columns are present in DDoS-PSHACK_FLOOD/DDoS-PSHACK_Flood14.pcap.csv\n",
      "Warning: Not all specified columns are present in DDoS-PSHACK_FLOOD/DDoS-PSHACK_Flood15.pcap.csv\n"
     ]
    },
    {
     "name": "stderr",
     "output_type": "stream",
     "text": [
      " 28%|██▊       | 64/229 [00:11<00:25,  6.39it/s]"
     ]
    },
    {
     "name": "stdout",
     "output_type": "stream",
     "text": [
      "Warning: Not all specified columns are present in DDoS-PSHACK_FLOOD/DDoS-PSHACK_Flood2.pcap.csv\n",
      "Warning: Not all specified columns are present in DDoS-PSHACK_FLOOD/DDoS-PSHACK_Flood3.pcap.csv\n"
     ]
    },
    {
     "name": "stderr",
     "output_type": "stream",
     "text": [
      " 29%|██▉       | 66/229 [00:11<00:29,  5.55it/s]"
     ]
    },
    {
     "name": "stdout",
     "output_type": "stream",
     "text": [
      "Warning: Not all specified columns are present in DDoS-PSHACK_FLOOD/DDoS-PSHACK_Flood4.pcap.csv\n",
      "Warning: Not all specified columns are present in DDoS-PSHACK_FLOOD/DDoS-PSHACK_Flood5.pcap.csv\n"
     ]
    },
    {
     "name": "stderr",
     "output_type": "stream",
     "text": [
      " 30%|██▉       | 68/229 [00:12<00:31,  5.06it/s]"
     ]
    },
    {
     "name": "stdout",
     "output_type": "stream",
     "text": [
      "Warning: Not all specified columns are present in DDoS-PSHACK_FLOOD/DDoS-PSHACK_Flood6.pcap.csv\n"
     ]
    },
    {
     "name": "stderr",
     "output_type": "stream",
     "text": [
      " 30%|███       | 69/229 [00:12<00:33,  4.80it/s]"
     ]
    },
    {
     "name": "stdout",
     "output_type": "stream",
     "text": [
      "Warning: Not all specified columns are present in DDoS-PSHACK_FLOOD/DDoS-PSHACK_Flood7.pcap.csv\n"
     ]
    },
    {
     "name": "stderr",
     "output_type": "stream",
     "text": [
      " 31%|███       | 70/229 [00:12<00:34,  4.62it/s]"
     ]
    },
    {
     "name": "stdout",
     "output_type": "stream",
     "text": [
      "Warning: Not all specified columns are present in DDoS-PSHACK_FLOOD/DDoS-PSHACK_Flood8.pcap.csv\n"
     ]
    },
    {
     "name": "stderr",
     "output_type": "stream",
     "text": [
      " 31%|███       | 71/229 [00:13<00:35,  4.47it/s]"
     ]
    },
    {
     "name": "stdout",
     "output_type": "stream",
     "text": [
      "Warning: Not all specified columns are present in DDoS-PSHACK_FLOOD/DDoS-PSHACK_Flood9.pcap.csv\n"
     ]
    },
    {
     "name": "stderr",
     "output_type": "stream",
     "text": [
      " 31%|███▏      | 72/229 [00:13<00:36,  4.30it/s]"
     ]
    },
    {
     "name": "stdout",
     "output_type": "stream",
     "text": [
      "Warning: Not all specified columns are present in DDoS-RSTFINFLOOD/DDoS-RSTFINFlood.pcap.csv\n"
     ]
    },
    {
     "name": "stderr",
     "output_type": "stream",
     "text": [
      " 32%|███▏      | 73/229 [00:13<00:37,  4.17it/s]"
     ]
    },
    {
     "name": "stdout",
     "output_type": "stream",
     "text": [
      "Warning: Not all specified columns are present in DDoS-RSTFINFLOOD/DDoS-RSTFINFlood1.pcap.csv\n"
     ]
    },
    {
     "name": "stderr",
     "output_type": "stream",
     "text": [
      " 32%|███▏      | 74/229 [00:13<00:38,  4.07it/s]"
     ]
    },
    {
     "name": "stdout",
     "output_type": "stream",
     "text": [
      "Warning: Not all specified columns are present in DDoS-RSTFINFLOOD/DDoS-RSTFINFlood10.pcap.csv\n"
     ]
    },
    {
     "name": "stderr",
     "output_type": "stream",
     "text": [
      " 33%|███▎      | 75/229 [00:14<00:38,  4.02it/s]"
     ]
    },
    {
     "name": "stdout",
     "output_type": "stream",
     "text": [
      "Warning: Not all specified columns are present in DDoS-RSTFINFLOOD/DDoS-RSTFINFlood11.pcap.csv\n"
     ]
    },
    {
     "name": "stderr",
     "output_type": "stream",
     "text": [
      " 33%|███▎      | 76/229 [00:14<00:38,  4.01it/s]"
     ]
    },
    {
     "name": "stdout",
     "output_type": "stream",
     "text": [
      "Warning: Not all specified columns are present in DDoS-RSTFINFLOOD/DDoS-RSTFINFlood12.pcap.csv\n"
     ]
    },
    {
     "name": "stderr",
     "output_type": "stream",
     "text": [
      " 34%|███▎      | 77/229 [00:14<00:38,  3.96it/s]"
     ]
    },
    {
     "name": "stdout",
     "output_type": "stream",
     "text": [
      "Warning: Not all specified columns are present in DDoS-RSTFINFLOOD/DDoS-RSTFINFlood13.pcap.csv\n"
     ]
    },
    {
     "name": "stderr",
     "output_type": "stream",
     "text": [
      " 34%|███▍      | 78/229 [00:14<00:38,  3.94it/s]"
     ]
    },
    {
     "name": "stdout",
     "output_type": "stream",
     "text": [
      "Warning: Not all specified columns are present in DDoS-RSTFINFLOOD/DDoS-RSTFINFlood14.pcap.csv\n",
      "Warning: Not all specified columns are present in DDoS-RSTFINFLOOD/DDoS-RSTFINFlood15.pcap.csv\n"
     ]
    },
    {
     "name": "stderr",
     "output_type": "stream",
     "text": [
      " 35%|███▍      | 80/229 [00:15<00:32,  4.62it/s]"
     ]
    },
    {
     "name": "stdout",
     "output_type": "stream",
     "text": [
      "Warning: Not all specified columns are present in DDoS-RSTFINFLOOD/DDoS-RSTFINFlood2.pcap.csv\n"
     ]
    },
    {
     "name": "stderr",
     "output_type": "stream",
     "text": [
      " 35%|███▌      | 81/229 [00:15<00:33,  4.39it/s]"
     ]
    },
    {
     "name": "stdout",
     "output_type": "stream",
     "text": [
      "Warning: Not all specified columns are present in DDoS-RSTFINFLOOD/DDoS-RSTFINFlood3.pcap.csv\n"
     ]
    },
    {
     "name": "stderr",
     "output_type": "stream",
     "text": [
      " 36%|███▌      | 82/229 [00:15<00:34,  4.28it/s]"
     ]
    },
    {
     "name": "stdout",
     "output_type": "stream",
     "text": [
      "Warning: Not all specified columns are present in DDoS-RSTFINFLOOD/DDoS-RSTFINFlood4.pcap.csv\n"
     ]
    },
    {
     "name": "stderr",
     "output_type": "stream",
     "text": [
      " 36%|███▌      | 83/229 [00:15<00:34,  4.21it/s]"
     ]
    },
    {
     "name": "stdout",
     "output_type": "stream",
     "text": [
      "Warning: Not all specified columns are present in DDoS-RSTFINFLOOD/DDoS-RSTFINFlood5.pcap.csv\n"
     ]
    },
    {
     "name": "stderr",
     "output_type": "stream",
     "text": [
      " 37%|███▋      | 84/229 [00:16<00:34,  4.20it/s]"
     ]
    },
    {
     "name": "stdout",
     "output_type": "stream",
     "text": [
      "Warning: Not all specified columns are present in DDoS-RSTFINFLOOD/DDoS-RSTFINFlood6.pcap.csv\n"
     ]
    },
    {
     "name": "stderr",
     "output_type": "stream",
     "text": [
      " 37%|███▋      | 85/229 [00:16<00:37,  3.80it/s]"
     ]
    },
    {
     "name": "stdout",
     "output_type": "stream",
     "text": [
      "Warning: Not all specified columns are present in DDoS-RSTFINFLOOD/DDoS-RSTFINFlood7.pcap.csv\n"
     ]
    },
    {
     "name": "stderr",
     "output_type": "stream",
     "text": [
      " 38%|███▊      | 86/229 [00:16<00:38,  3.69it/s]"
     ]
    },
    {
     "name": "stdout",
     "output_type": "stream",
     "text": [
      "Warning: Not all specified columns are present in DDoS-RSTFINFLOOD/DDoS-RSTFINFlood8.pcap.csv\n"
     ]
    },
    {
     "name": "stderr",
     "output_type": "stream",
     "text": [
      " 38%|███▊      | 87/229 [00:17<00:37,  3.79it/s]"
     ]
    },
    {
     "name": "stdout",
     "output_type": "stream",
     "text": [
      "Warning: Not all specified columns are present in DDoS-RSTFINFLOOD/DDoS-RSTFINFlood9.pcap.csv\n"
     ]
    },
    {
     "name": "stderr",
     "output_type": "stream",
     "text": [
      " 38%|███▊      | 88/229 [00:17<00:37,  3.78it/s]"
     ]
    },
    {
     "name": "stdout",
     "output_type": "stream",
     "text": [
      "Warning: Not all specified columns are present in DDoS-SYN_Flood/DDoS-SYN_Flood.pcap.csv\n"
     ]
    },
    {
     "name": "stderr",
     "output_type": "stream",
     "text": [
      " 39%|███▉      | 89/229 [00:17<00:36,  3.83it/s]"
     ]
    },
    {
     "name": "stdout",
     "output_type": "stream",
     "text": [
      "Warning: Not all specified columns are present in DDoS-SYN_Flood/DDoS-SYN_Flood1.pcap.csv\n"
     ]
    },
    {
     "name": "stderr",
     "output_type": "stream",
     "text": [
      " 39%|███▉      | 90/229 [00:17<00:36,  3.85it/s]"
     ]
    },
    {
     "name": "stdout",
     "output_type": "stream",
     "text": [
      "Warning: Not all specified columns are present in DDoS-SYN_Flood/DDoS-SYN_Flood10.pcap.csv\n"
     ]
    },
    {
     "name": "stderr",
     "output_type": "stream",
     "text": [
      " 40%|███▉      | 91/229 [00:18<00:35,  3.85it/s]"
     ]
    },
    {
     "name": "stdout",
     "output_type": "stream",
     "text": [
      "Warning: Not all specified columns are present in DDoS-SYN_Flood/DDoS-SYN_Flood11.pcap.csv\n"
     ]
    },
    {
     "name": "stderr",
     "output_type": "stream",
     "text": [
      " 40%|████      | 92/229 [00:18<00:35,  3.84it/s]"
     ]
    },
    {
     "name": "stdout",
     "output_type": "stream",
     "text": [
      "Warning: Not all specified columns are present in DDoS-SYN_Flood/DDoS-SYN_Flood12.pcap.csv\n"
     ]
    },
    {
     "name": "stderr",
     "output_type": "stream",
     "text": [
      " 41%|████      | 93/229 [00:18<00:35,  3.80it/s]"
     ]
    },
    {
     "name": "stdout",
     "output_type": "stream",
     "text": [
      "Warning: Not all specified columns are present in DDoS-SYN_Flood/DDoS-SYN_Flood13.pcap.csv\n"
     ]
    },
    {
     "name": "stderr",
     "output_type": "stream",
     "text": [
      " 41%|████▏     | 95/229 [00:19<00:29,  4.53it/s]"
     ]
    },
    {
     "name": "stdout",
     "output_type": "stream",
     "text": [
      "Warning: Not all specified columns are present in DDoS-SYN_Flood/DDoS-SYN_Flood14.pcap.csv\n",
      "Warning: Not all specified columns are present in DDoS-SYN_Flood/DDoS-SYN_Flood15.pcap.csv\n"
     ]
    },
    {
     "name": "stderr",
     "output_type": "stream",
     "text": [
      " 42%|████▏     | 96/229 [00:19<00:30,  4.36it/s]"
     ]
    },
    {
     "name": "stdout",
     "output_type": "stream",
     "text": [
      "Warning: Not all specified columns are present in DDoS-SYN_Flood/DDoS-SYN_Flood2.pcap.csv\n"
     ]
    },
    {
     "name": "stderr",
     "output_type": "stream",
     "text": [
      " 43%|████▎     | 98/229 [00:19<00:28,  4.54it/s]"
     ]
    },
    {
     "name": "stdout",
     "output_type": "stream",
     "text": [
      "Warning: Not all specified columns are present in DDoS-SYN_Flood/DDoS-SYN_Flood3.pcap.csv\n",
      "Warning: Not all specified columns are present in DDoS-SYN_Flood/DDoS-SYN_Flood4.pcap.csv\n"
     ]
    },
    {
     "name": "stderr",
     "output_type": "stream",
     "text": [
      " 43%|████▎     | 99/229 [00:19<00:30,  4.33it/s]"
     ]
    },
    {
     "name": "stdout",
     "output_type": "stream",
     "text": [
      "Warning: Not all specified columns are present in DDoS-SYN_Flood/DDoS-SYN_Flood5.pcap.csv\n"
     ]
    },
    {
     "name": "stderr",
     "output_type": "stream",
     "text": [
      " 44%|████▎     | 100/229 [00:20<00:30,  4.21it/s]"
     ]
    },
    {
     "name": "stdout",
     "output_type": "stream",
     "text": [
      "Warning: Not all specified columns are present in DDoS-SYN_Flood/DDoS-SYN_Flood6.pcap.csv\n"
     ]
    },
    {
     "name": "stderr",
     "output_type": "stream",
     "text": [
      " 44%|████▍     | 101/229 [00:20<00:31,  4.08it/s]"
     ]
    },
    {
     "name": "stdout",
     "output_type": "stream",
     "text": [
      "Warning: Not all specified columns are present in DDoS-SYN_Flood/DDoS-SYN_Flood7.pcap.csv\n"
     ]
    },
    {
     "name": "stderr",
     "output_type": "stream",
     "text": [
      " 45%|████▍     | 102/229 [00:20<00:32,  3.91it/s]"
     ]
    },
    {
     "name": "stdout",
     "output_type": "stream",
     "text": [
      "Warning: Not all specified columns are present in DDoS-SYN_Flood/DDoS-SYN_Flood8.pcap.csv\n"
     ]
    },
    {
     "name": "stderr",
     "output_type": "stream",
     "text": [
      " 45%|████▍     | 103/229 [00:21<00:33,  3.73it/s]"
     ]
    },
    {
     "name": "stdout",
     "output_type": "stream",
     "text": [
      "Warning: Not all specified columns are present in DDoS-SYN_Flood/DDoS-SYN_Flood9.pcap.csv\n",
      "Warning: Not all specified columns are present in DDoS-SlowLoris/DDoS-SlowLoris.pcap.csv\n"
     ]
    },
    {
     "name": "stderr",
     "output_type": "stream",
     "text": [
      " 46%|████▌     | 105/229 [00:21<00:25,  4.77it/s]"
     ]
    },
    {
     "name": "stdout",
     "output_type": "stream",
     "text": [
      "Warning: Not all specified columns are present in DDoS-SynonymousIP_Flood/DDoS-SynonymousIP_Flood.pcap.csv\n"
     ]
    },
    {
     "name": "stderr",
     "output_type": "stream",
     "text": [
      " 46%|████▋     | 106/229 [00:21<00:27,  4.51it/s]"
     ]
    },
    {
     "name": "stdout",
     "output_type": "stream",
     "text": [
      "Warning: Not all specified columns are present in DDoS-SynonymousIP_Flood/DDoS-SynonymousIP_Flood1.pcap.csv\n"
     ]
    },
    {
     "name": "stderr",
     "output_type": "stream",
     "text": [
      " 47%|████▋     | 107/229 [00:21<00:28,  4.31it/s]"
     ]
    },
    {
     "name": "stdout",
     "output_type": "stream",
     "text": [
      "Warning: Not all specified columns are present in DDoS-SynonymousIP_Flood/DDoS-SynonymousIP_Flood10.pcap.csv\n"
     ]
    },
    {
     "name": "stderr",
     "output_type": "stream",
     "text": [
      " 47%|████▋     | 108/229 [00:22<00:28,  4.18it/s]"
     ]
    },
    {
     "name": "stdout",
     "output_type": "stream",
     "text": [
      "Warning: Not all specified columns are present in DDoS-SynonymousIP_Flood/DDoS-SynonymousIP_Flood11.pcap.csv\n"
     ]
    },
    {
     "name": "stderr",
     "output_type": "stream",
     "text": [
      " 48%|████▊     | 110/229 [00:22<00:25,  4.72it/s]"
     ]
    },
    {
     "name": "stdout",
     "output_type": "stream",
     "text": [
      "Warning: Not all specified columns are present in DDoS-SynonymousIP_Flood/DDoS-SynonymousIP_Flood12.pcap.csv\n",
      "Warning: Not all specified columns are present in DDoS-SynonymousIP_Flood/DDoS-SynonymousIP_Flood13.pcap.csv\n"
     ]
    },
    {
     "name": "stderr",
     "output_type": "stream",
     "text": [
      " 48%|████▊     | 111/229 [00:22<00:26,  4.43it/s]"
     ]
    },
    {
     "name": "stdout",
     "output_type": "stream",
     "text": [
      "Warning: Not all specified columns are present in DDoS-SynonymousIP_Flood/DDoS-SynonymousIP_Flood2.pcap.csv\n"
     ]
    },
    {
     "name": "stderr",
     "output_type": "stream",
     "text": [
      " 49%|████▉     | 112/229 [00:23<00:28,  4.13it/s]"
     ]
    },
    {
     "name": "stdout",
     "output_type": "stream",
     "text": [
      "Warning: Not all specified columns are present in DDoS-SynonymousIP_Flood/DDoS-SynonymousIP_Flood3.pcap.csv\n"
     ]
    },
    {
     "name": "stderr",
     "output_type": "stream",
     "text": [
      " 49%|████▉     | 113/229 [00:23<00:29,  3.88it/s]"
     ]
    },
    {
     "name": "stdout",
     "output_type": "stream",
     "text": [
      "Warning: Not all specified columns are present in DDoS-SynonymousIP_Flood/DDoS-SynonymousIP_Flood4.pcap.csv\n"
     ]
    },
    {
     "name": "stderr",
     "output_type": "stream",
     "text": [
      " 50%|████▉     | 114/229 [00:23<00:29,  3.91it/s]"
     ]
    },
    {
     "name": "stdout",
     "output_type": "stream",
     "text": [
      "Warning: Not all specified columns are present in DDoS-SynonymousIP_Flood/DDoS-SynonymousIP_Flood5.pcap.csv\n"
     ]
    },
    {
     "name": "stderr",
     "output_type": "stream",
     "text": [
      " 50%|█████     | 115/229 [00:23<00:29,  3.86it/s]"
     ]
    },
    {
     "name": "stdout",
     "output_type": "stream",
     "text": [
      "Warning: Not all specified columns are present in DDoS-SynonymousIP_Flood/DDoS-SynonymousIP_Flood6.pcap.csv\n"
     ]
    },
    {
     "name": "stderr",
     "output_type": "stream",
     "text": [
      " 51%|█████     | 116/229 [00:24<00:29,  3.81it/s]"
     ]
    },
    {
     "name": "stdout",
     "output_type": "stream",
     "text": [
      "Warning: Not all specified columns are present in DDoS-SynonymousIP_Flood/DDoS-SynonymousIP_Flood7.pcap.csv\n"
     ]
    },
    {
     "name": "stderr",
     "output_type": "stream",
     "text": [
      " 51%|█████     | 117/229 [00:24<00:30,  3.71it/s]"
     ]
    },
    {
     "name": "stdout",
     "output_type": "stream",
     "text": [
      "Warning: Not all specified columns are present in DDoS-SynonymousIP_Flood/DDoS-SynonymousIP_Flood8.pcap.csv\n"
     ]
    },
    {
     "name": "stderr",
     "output_type": "stream",
     "text": [
      " 52%|█████▏    | 118/229 [00:24<00:29,  3.76it/s]"
     ]
    },
    {
     "name": "stdout",
     "output_type": "stream",
     "text": [
      "Warning: Not all specified columns are present in DDoS-SynonymousIP_Flood/DDoS-SynonymousIP_Flood9.pcap.csv\n"
     ]
    },
    {
     "name": "stderr",
     "output_type": "stream",
     "text": [
      " 52%|█████▏    | 119/229 [00:24<00:29,  3.72it/s]"
     ]
    },
    {
     "name": "stdout",
     "output_type": "stream",
     "text": [
      "Warning: Not all specified columns are present in DDoS-TCP_Flood/DDoS-TCP_Flood.pcap.csv\n"
     ]
    },
    {
     "name": "stderr",
     "output_type": "stream",
     "text": [
      " 52%|█████▏    | 120/229 [00:25<00:29,  3.72it/s]"
     ]
    },
    {
     "name": "stdout",
     "output_type": "stream",
     "text": [
      "Warning: Not all specified columns are present in DDoS-TCP_Flood/DDoS-TCP_Flood1.pcap.csv\n"
     ]
    },
    {
     "name": "stderr",
     "output_type": "stream",
     "text": [
      " 53%|█████▎    | 121/229 [00:25<00:29,  3.72it/s]"
     ]
    },
    {
     "name": "stdout",
     "output_type": "stream",
     "text": [
      "Warning: Not all specified columns are present in DDoS-TCP_Flood/DDoS-TCP_Flood10.pcap.csv\n"
     ]
    },
    {
     "name": "stderr",
     "output_type": "stream",
     "text": [
      " 53%|█████▎    | 122/229 [00:25<00:28,  3.80it/s]"
     ]
    },
    {
     "name": "stdout",
     "output_type": "stream",
     "text": [
      "Warning: Not all specified columns are present in DDoS-TCP_Flood/DDoS-TCP_Flood11.pcap.csv\n"
     ]
    },
    {
     "name": "stderr",
     "output_type": "stream",
     "text": [
      " 54%|█████▎    | 123/229 [00:25<00:27,  3.85it/s]"
     ]
    },
    {
     "name": "stdout",
     "output_type": "stream",
     "text": [
      "Warning: Not all specified columns are present in DDoS-TCP_Flood/DDoS-TCP_Flood12.pcap.csv\n"
     ]
    },
    {
     "name": "stderr",
     "output_type": "stream",
     "text": [
      " 54%|█████▍    | 124/229 [00:26<00:27,  3.86it/s]"
     ]
    },
    {
     "name": "stdout",
     "output_type": "stream",
     "text": [
      "Warning: Not all specified columns are present in DDoS-TCP_Flood/DDoS-TCP_Flood13.pcap.csv\n"
     ]
    },
    {
     "name": "stderr",
     "output_type": "stream",
     "text": [
      " 55%|█████▍    | 125/229 [00:26<00:26,  3.86it/s]"
     ]
    },
    {
     "name": "stdout",
     "output_type": "stream",
     "text": [
      "Warning: Not all specified columns are present in DDoS-TCP_Flood/DDoS-TCP_Flood14.pcap.csv\n"
     ]
    },
    {
     "name": "stderr",
     "output_type": "stream",
     "text": [
      " 55%|█████▌    | 126/229 [00:26<00:26,  3.88it/s]"
     ]
    },
    {
     "name": "stdout",
     "output_type": "stream",
     "text": [
      "Warning: Not all specified columns are present in DDoS-TCP_Flood/DDoS-TCP_Flood15.pcap.csv\n"
     ]
    },
    {
     "name": "stderr",
     "output_type": "stream",
     "text": [
      " 55%|█████▌    | 127/229 [00:27<00:26,  3.88it/s]"
     ]
    },
    {
     "name": "stdout",
     "output_type": "stream",
     "text": [
      "Warning: Not all specified columns are present in DDoS-TCP_Flood/DDoS-TCP_Flood16.pcap.csv\n",
      "Warning: Not all specified columns are present in DDoS-TCP_Flood/DDoS-TCP_Flood17.pcap.csv\n"
     ]
    },
    {
     "name": "stderr",
     "output_type": "stream",
     "text": [
      " 56%|█████▋    | 129/229 [00:27<00:22,  4.54it/s]"
     ]
    },
    {
     "name": "stdout",
     "output_type": "stream",
     "text": [
      "Warning: Not all specified columns are present in DDoS-TCP_Flood/DDoS-TCP_Flood2.pcap.csv\n"
     ]
    },
    {
     "name": "stderr",
     "output_type": "stream",
     "text": [
      " 57%|█████▋    | 131/229 [00:27<00:21,  4.52it/s]"
     ]
    },
    {
     "name": "stdout",
     "output_type": "stream",
     "text": [
      "Warning: Not all specified columns are present in DDoS-TCP_Flood/DDoS-TCP_Flood3.pcap.csv\n",
      "Warning: Not all specified columns are present in DDoS-TCP_Flood/DDoS-TCP_Flood4.pcap.csv\n"
     ]
    },
    {
     "name": "stderr",
     "output_type": "stream",
     "text": [
      " 58%|█████▊    | 132/229 [00:28<00:21,  4.52it/s]"
     ]
    },
    {
     "name": "stdout",
     "output_type": "stream",
     "text": [
      "Warning: Not all specified columns are present in DDoS-TCP_Flood/DDoS-TCP_Flood5.pcap.csv\n"
     ]
    },
    {
     "name": "stderr",
     "output_type": "stream",
     "text": [
      " 58%|█████▊    | 133/229 [00:28<00:23,  4.15it/s]"
     ]
    },
    {
     "name": "stdout",
     "output_type": "stream",
     "text": [
      "Warning: Not all specified columns are present in DDoS-TCP_Flood/DDoS-TCP_Flood6.pcap.csv\n"
     ]
    },
    {
     "name": "stderr",
     "output_type": "stream",
     "text": [
      " 59%|█████▊    | 134/229 [00:28<00:27,  3.43it/s]"
     ]
    },
    {
     "name": "stdout",
     "output_type": "stream",
     "text": [
      "Warning: Not all specified columns are present in DDoS-TCP_Flood/DDoS-TCP_Flood7.pcap.csv\n"
     ]
    },
    {
     "name": "stderr",
     "output_type": "stream",
     "text": [
      " 59%|█████▉    | 135/229 [00:29<00:27,  3.38it/s]"
     ]
    },
    {
     "name": "stdout",
     "output_type": "stream",
     "text": [
      "Warning: Not all specified columns are present in DDoS-TCP_Flood/DDoS-TCP_Flood8.pcap.csv\n"
     ]
    },
    {
     "name": "stderr",
     "output_type": "stream",
     "text": [
      " 59%|█████▉    | 136/229 [00:29<00:26,  3.47it/s]"
     ]
    },
    {
     "name": "stdout",
     "output_type": "stream",
     "text": [
      "Warning: Not all specified columns are present in DDoS-TCP_Flood/DDoS-TCP_Flood9.pcap.csv\n"
     ]
    },
    {
     "name": "stderr",
     "output_type": "stream",
     "text": [
      " 60%|█████▉    | 137/229 [00:29<00:30,  3.06it/s]"
     ]
    },
    {
     "name": "stdout",
     "output_type": "stream",
     "text": [
      "Warning: Not all specified columns are present in DDoS-UDP_Flood/DDoS-UDP_Flood.pcap.csv\n"
     ]
    },
    {
     "name": "stderr",
     "output_type": "stream",
     "text": [
      " 60%|██████    | 138/229 [00:29<00:27,  3.29it/s]"
     ]
    },
    {
     "name": "stdout",
     "output_type": "stream",
     "text": [
      "Warning: Not all specified columns are present in DDoS-UDP_Flood/DDoS-UDP_Flood1.pcap.csv\n"
     ]
    },
    {
     "name": "stderr",
     "output_type": "stream",
     "text": [
      " 61%|██████    | 139/229 [00:30<00:26,  3.41it/s]"
     ]
    },
    {
     "name": "stdout",
     "output_type": "stream",
     "text": [
      "Warning: Not all specified columns are present in DDoS-UDP_Flood/DDoS-UDP_Flood10.pcap.csv\n"
     ]
    },
    {
     "name": "stderr",
     "output_type": "stream",
     "text": [
      " 61%|██████    | 140/229 [00:30<00:24,  3.57it/s]"
     ]
    },
    {
     "name": "stdout",
     "output_type": "stream",
     "text": [
      "Warning: Not all specified columns are present in DDoS-UDP_Flood/DDoS-UDP_Flood11.pcap.csv\n"
     ]
    },
    {
     "name": "stderr",
     "output_type": "stream",
     "text": [
      " 62%|██████▏   | 141/229 [00:30<00:23,  3.72it/s]"
     ]
    },
    {
     "name": "stdout",
     "output_type": "stream",
     "text": [
      "Warning: Not all specified columns are present in DDoS-UDP_Flood/DDoS-UDP_Flood12.pcap.csv\n"
     ]
    },
    {
     "name": "stderr",
     "output_type": "stream",
     "text": [
      " 62%|██████▏   | 142/229 [00:30<00:22,  3.84it/s]"
     ]
    },
    {
     "name": "stdout",
     "output_type": "stream",
     "text": [
      "Warning: Not all specified columns are present in DDoS-UDP_Flood/DDoS-UDP_Flood13.pcap.csv\n"
     ]
    },
    {
     "name": "stderr",
     "output_type": "stream",
     "text": [
      " 62%|██████▏   | 143/229 [00:31<00:22,  3.90it/s]"
     ]
    },
    {
     "name": "stdout",
     "output_type": "stream",
     "text": [
      "Warning: Not all specified columns are present in DDoS-UDP_Flood/DDoS-UDP_Flood14.pcap.csv\n"
     ]
    },
    {
     "name": "stderr",
     "output_type": "stream",
     "text": [
      " 63%|██████▎   | 144/229 [00:31<00:21,  3.92it/s]"
     ]
    },
    {
     "name": "stdout",
     "output_type": "stream",
     "text": [
      "Warning: Not all specified columns are present in DDoS-UDP_Flood/DDoS-UDP_Flood15.pcap.csv\n"
     ]
    },
    {
     "name": "stderr",
     "output_type": "stream",
     "text": [
      " 63%|██████▎   | 145/229 [00:31<00:21,  3.90it/s]"
     ]
    },
    {
     "name": "stdout",
     "output_type": "stream",
     "text": [
      "Warning: Not all specified columns are present in DDoS-UDP_Flood/DDoS-UDP_Flood16.pcap.csv\n"
     ]
    },
    {
     "name": "stderr",
     "output_type": "stream",
     "text": [
      " 64%|██████▍   | 146/229 [00:32<00:21,  3.84it/s]"
     ]
    },
    {
     "name": "stdout",
     "output_type": "stream",
     "text": [
      "Warning: Not all specified columns are present in DDoS-UDP_Flood/DDoS-UDP_Flood17.pcap.csv\n"
     ]
    },
    {
     "name": "stderr",
     "output_type": "stream",
     "text": [
      " 64%|██████▍   | 147/229 [00:32<00:21,  3.87it/s]"
     ]
    },
    {
     "name": "stdout",
     "output_type": "stream",
     "text": [
      "Warning: Not all specified columns are present in DDoS-UDP_Flood/DDoS-UDP_Flood18.pcap.csv\n"
     ]
    },
    {
     "name": "stderr",
     "output_type": "stream",
     "text": [
      " 65%|██████▍   | 148/229 [00:32<00:20,  3.86it/s]"
     ]
    },
    {
     "name": "stdout",
     "output_type": "stream",
     "text": [
      "Warning: Not all specified columns are present in DDoS-UDP_Flood/DDoS-UDP_Flood19.pcap.csv\n"
     ]
    },
    {
     "name": "stderr",
     "output_type": "stream",
     "text": [
      " 65%|██████▌   | 149/229 [00:32<00:20,  3.90it/s]"
     ]
    },
    {
     "name": "stdout",
     "output_type": "stream",
     "text": [
      "Warning: Not all specified columns are present in DDoS-UDP_Flood/DDoS-UDP_Flood2.pcap.csv\n",
      "Warning: Not all specified columns are present in DDoS-UDP_Flood/DDoS-UDP_Flood20.pcap.csv\n"
     ]
    },
    {
     "name": "stderr",
     "output_type": "stream",
     "text": [
      " 66%|██████▌   | 151/229 [00:33<00:16,  4.70it/s]"
     ]
    },
    {
     "name": "stdout",
     "output_type": "stream",
     "text": [
      "Warning: Not all specified columns are present in DDoS-UDP_Flood/DDoS-UDP_Flood3.pcap.csv\n"
     ]
    },
    {
     "name": "stderr",
     "output_type": "stream",
     "text": [
      " 66%|██████▋   | 152/229 [00:33<00:17,  4.36it/s]"
     ]
    },
    {
     "name": "stdout",
     "output_type": "stream",
     "text": [
      "Warning: Not all specified columns are present in DDoS-UDP_Flood/DDoS-UDP_Flood4.pcap.csv\n"
     ]
    },
    {
     "name": "stderr",
     "output_type": "stream",
     "text": [
      " 67%|██████▋   | 153/229 [00:33<00:18,  4.13it/s]"
     ]
    },
    {
     "name": "stdout",
     "output_type": "stream",
     "text": [
      "Warning: Not all specified columns are present in DDoS-UDP_Flood/DDoS-UDP_Flood5.pcap.csv\n"
     ]
    },
    {
     "name": "stderr",
     "output_type": "stream",
     "text": [
      " 67%|██████▋   | 154/229 [00:33<00:18,  4.03it/s]"
     ]
    },
    {
     "name": "stdout",
     "output_type": "stream",
     "text": [
      "Warning: Not all specified columns are present in DDoS-UDP_Flood/DDoS-UDP_Flood6.pcap.csv\n"
     ]
    },
    {
     "name": "stderr",
     "output_type": "stream",
     "text": [
      " 68%|██████▊   | 155/229 [00:34<00:19,  3.75it/s]"
     ]
    },
    {
     "name": "stdout",
     "output_type": "stream",
     "text": [
      "Warning: Not all specified columns are present in DDoS-UDP_Flood/DDoS-UDP_Flood7.pcap.csv\n"
     ]
    },
    {
     "name": "stderr",
     "output_type": "stream",
     "text": [
      " 68%|██████▊   | 156/229 [00:34<00:19,  3.71it/s]"
     ]
    },
    {
     "name": "stdout",
     "output_type": "stream",
     "text": [
      "Warning: Not all specified columns are present in DDoS-UDP_Flood/DDoS-UDP_Flood8.pcap.csv\n"
     ]
    },
    {
     "name": "stderr",
     "output_type": "stream",
     "text": [
      " 69%|██████▉   | 158/229 [00:34<00:17,  4.09it/s]"
     ]
    },
    {
     "name": "stdout",
     "output_type": "stream",
     "text": [
      "Warning: Not all specified columns are present in DDoS-UDP_Flood/DDoS-UDP_Flood9.pcap.csv\n",
      "Warning: Not all specified columns are present in DNS_Spoofing/DNS_Spoofing.pcap.csv\n"
     ]
    },
    {
     "name": "stderr",
     "output_type": "stream",
     "text": [
      " 70%|███████   | 161/229 [00:35<00:08,  7.81it/s]"
     ]
    },
    {
     "name": "stdout",
     "output_type": "stream",
     "text": [
      "Warning: Not all specified columns are present in DictionaryBruteForce/DictionaryBruteForce.pcap.csv\n",
      "Warning: Not all specified columns are present in DoS-HTTP_Flood/DoS-HTTP_Flood.pcap.csv\n",
      "Warning: Not all specified columns are present in DoS-HTTP_Flood/DoS-HTTP_Flood1.pcap.csv\n",
      "Warning: Not all specified columns are present in DoS-SYN_Flood/DoS-SYN_Flood.pcap.csv\n"
     ]
    },
    {
     "name": "stderr",
     "output_type": "stream",
     "text": [
      " 71%|███████   | 163/229 [00:35<00:12,  5.40it/s]"
     ]
    },
    {
     "name": "stdout",
     "output_type": "stream",
     "text": [
      "Warning: Not all specified columns are present in DoS-SYN_Flood/DoS-SYN_Flood1.pcap.csv\n"
     ]
    },
    {
     "name": "stderr",
     "output_type": "stream",
     "text": [
      " 72%|███████▏  | 164/229 [00:35<00:12,  5.04it/s]"
     ]
    },
    {
     "name": "stdout",
     "output_type": "stream",
     "text": [
      "Warning: Not all specified columns are present in DoS-SYN_Flood/DoS-SYN_Flood2.pcap.csv\n"
     ]
    },
    {
     "name": "stderr",
     "output_type": "stream",
     "text": [
      " 72%|███████▏  | 165/229 [00:36<00:13,  4.68it/s]"
     ]
    },
    {
     "name": "stdout",
     "output_type": "stream",
     "text": [
      "Warning: Not all specified columns are present in DoS-SYN_Flood/DoS-SYN_Flood3.pcap.csv\n"
     ]
    },
    {
     "name": "stderr",
     "output_type": "stream",
     "text": [
      " 72%|███████▏  | 166/229 [00:36<00:14,  4.34it/s]"
     ]
    },
    {
     "name": "stdout",
     "output_type": "stream",
     "text": [
      "Warning: Not all specified columns are present in DoS-SYN_Flood/DoS-SYN_Flood4.pcap.csv\n"
     ]
    },
    {
     "name": "stderr",
     "output_type": "stream",
     "text": [
      " 73%|███████▎  | 167/229 [00:36<00:14,  4.19it/s]"
     ]
    },
    {
     "name": "stdout",
     "output_type": "stream",
     "text": [
      "Warning: Not all specified columns are present in DoS-SYN_Flood/DoS-SYN_Flood5.pcap.csv\n"
     ]
    },
    {
     "name": "stderr",
     "output_type": "stream",
     "text": [
      " 74%|███████▍  | 169/229 [00:37<00:13,  4.34it/s]"
     ]
    },
    {
     "name": "stdout",
     "output_type": "stream",
     "text": [
      "Warning: Not all specified columns are present in DoS-SYN_Flood/DoS-SYN_Flood6.pcap.csv\n",
      "Warning: Not all specified columns are present in DoS-SYN_Flood/DoS-SYN_Flood7.pcap.csv\n"
     ]
    },
    {
     "name": "stderr",
     "output_type": "stream",
     "text": [
      " 74%|███████▍  | 170/229 [00:37<00:13,  4.23it/s]"
     ]
    },
    {
     "name": "stdout",
     "output_type": "stream",
     "text": [
      "Warning: Not all specified columns are present in DoS-TCP_Flood/DoS-TCP_Flood.pcap.csv\n"
     ]
    },
    {
     "name": "stderr",
     "output_type": "stream",
     "text": [
      " 75%|███████▍  | 171/229 [00:37<00:13,  4.15it/s]"
     ]
    },
    {
     "name": "stdout",
     "output_type": "stream",
     "text": [
      "Warning: Not all specified columns are present in DoS-TCP_Flood/DoS-TCP_Flood1.pcap.csv\n",
      "Warning: Not all specified columns are present in DoS-TCP_Flood/DoS-TCP_Flood10.pcap.csv\n"
     ]
    },
    {
     "name": "stderr",
     "output_type": "stream",
     "text": [
      " 76%|███████▌  | 173/229 [00:38<00:11,  4.79it/s]"
     ]
    },
    {
     "name": "stdout",
     "output_type": "stream",
     "text": [
      "Warning: Not all specified columns are present in DoS-TCP_Flood/DoS-TCP_Flood3.pcap.csv\n"
     ]
    },
    {
     "name": "stderr",
     "output_type": "stream",
     "text": [
      " 76%|███████▌  | 174/229 [00:38<00:12,  4.46it/s]"
     ]
    },
    {
     "name": "stdout",
     "output_type": "stream",
     "text": [
      "Warning: Not all specified columns are present in DoS-TCP_Flood/DoS-TCP_Flood4.pcap.csv\n"
     ]
    },
    {
     "name": "stderr",
     "output_type": "stream",
     "text": [
      " 76%|███████▋  | 175/229 [00:38<00:12,  4.29it/s]"
     ]
    },
    {
     "name": "stdout",
     "output_type": "stream",
     "text": [
      "Warning: Not all specified columns are present in DoS-TCP_Flood/DoS-TCP_Flood5.pcap.csv\n"
     ]
    },
    {
     "name": "stderr",
     "output_type": "stream",
     "text": [
      " 77%|███████▋  | 176/229 [00:38<00:12,  4.18it/s]"
     ]
    },
    {
     "name": "stdout",
     "output_type": "stream",
     "text": [
      "Warning: Not all specified columns are present in DoS-TCP_Flood/DoS-TCP_Flood6.pcap.csv\n"
     ]
    },
    {
     "name": "stderr",
     "output_type": "stream",
     "text": [
      " 77%|███████▋  | 177/229 [00:39<00:12,  4.14it/s]"
     ]
    },
    {
     "name": "stdout",
     "output_type": "stream",
     "text": [
      "Warning: Not all specified columns are present in DoS-TCP_Flood/DoS-TCP_Flood7.pcap.csv\n"
     ]
    },
    {
     "name": "stderr",
     "output_type": "stream",
     "text": [
      " 78%|███████▊  | 178/229 [00:39<00:12,  4.14it/s]"
     ]
    },
    {
     "name": "stdout",
     "output_type": "stream",
     "text": [
      "Warning: Not all specified columns are present in DoS-TCP_Flood/DoS-TCP_Flood8.pcap.csv\n"
     ]
    },
    {
     "name": "stderr",
     "output_type": "stream",
     "text": [
      " 79%|███████▊  | 180/229 [00:39<00:10,  4.79it/s]"
     ]
    },
    {
     "name": "stdout",
     "output_type": "stream",
     "text": [
      "Warning: Not all specified columns are present in DoS-TCP_Flood/DoS-TCP_Flood9.pcap.csv\n",
      "Warning: Not all specified columns are present in DoS-UDP_Flood/DoS-UDP_Flood.pcap.csv\n"
     ]
    },
    {
     "name": "stderr",
     "output_type": "stream",
     "text": [
      " 79%|███████▉  | 181/229 [00:39<00:09,  5.01it/s]"
     ]
    },
    {
     "name": "stdout",
     "output_type": "stream",
     "text": [
      "Warning: Not all specified columns are present in DoS-UDP_Flood/DoS-UDP_Flood1.pcap.csv\n"
     ]
    },
    {
     "name": "stderr",
     "output_type": "stream",
     "text": [
      " 79%|███████▉  | 182/229 [00:40<00:10,  4.38it/s]"
     ]
    },
    {
     "name": "stdout",
     "output_type": "stream",
     "text": [
      "Warning: Not all specified columns are present in DoS-UDP_Flood/DoS-UDP_Flood10.pcap.csv\n"
     ]
    },
    {
     "name": "stderr",
     "output_type": "stream",
     "text": [
      " 80%|███████▉  | 183/229 [00:40<00:12,  3.75it/s]"
     ]
    },
    {
     "name": "stdout",
     "output_type": "stream",
     "text": [
      "Warning: Not all specified columns are present in DoS-UDP_Flood/DoS-UDP_Flood11.pcap.csv\n"
     ]
    },
    {
     "name": "stderr",
     "output_type": "stream",
     "text": [
      " 80%|████████  | 184/229 [00:40<00:13,  3.38it/s]"
     ]
    },
    {
     "name": "stdout",
     "output_type": "stream",
     "text": [
      "Warning: Not all specified columns are present in DoS-UDP_Flood/DoS-UDP_Flood12.pcap.csv\n"
     ]
    },
    {
     "name": "stderr",
     "output_type": "stream",
     "text": [
      " 81%|████████  | 185/229 [00:41<00:13,  3.22it/s]"
     ]
    },
    {
     "name": "stdout",
     "output_type": "stream",
     "text": [
      "Warning: Not all specified columns are present in DoS-UDP_Flood/DoS-UDP_Flood13.pcap.csv\n"
     ]
    },
    {
     "name": "stderr",
     "output_type": "stream",
     "text": [
      " 81%|████████  | 186/229 [00:41<00:13,  3.17it/s]"
     ]
    },
    {
     "name": "stdout",
     "output_type": "stream",
     "text": [
      "Warning: Not all specified columns are present in DoS-UDP_Flood/DoS-UDP_Flood14.pcap.csv\n"
     ]
    },
    {
     "name": "stderr",
     "output_type": "stream",
     "text": [
      " 82%|████████▏ | 187/229 [00:41<00:13,  3.07it/s]"
     ]
    },
    {
     "name": "stdout",
     "output_type": "stream",
     "text": [
      "Warning: Not all specified columns are present in DoS-UDP_Flood/DoS-UDP_Flood15.pcap.csv\n"
     ]
    },
    {
     "name": "stderr",
     "output_type": "stream",
     "text": [
      " 83%|████████▎ | 189/229 [00:42<00:10,  3.98it/s]"
     ]
    },
    {
     "name": "stdout",
     "output_type": "stream",
     "text": [
      "Warning: Not all specified columns are present in DoS-UDP_Flood/DoS-UDP_Flood16.pcap.csv\n",
      "Warning: Not all specified columns are present in DoS-UDP_Flood/DoS-UDP_Flood2.pcap.csv\n"
     ]
    },
    {
     "name": "stderr",
     "output_type": "stream",
     "text": [
      " 83%|████████▎ | 191/229 [00:42<00:07,  5.06it/s]"
     ]
    },
    {
     "name": "stdout",
     "output_type": "stream",
     "text": [
      "Warning: Not all specified columns are present in DoS-UDP_Flood/DoS-UDP_Flood3.pcap.csv\n",
      "Warning: Not all specified columns are present in DoS-UDP_Flood/DoS-UDP_Flood4.pcap.csv\n"
     ]
    },
    {
     "name": "stderr",
     "output_type": "stream",
     "text": [
      " 84%|████████▍ | 193/229 [00:42<00:06,  5.44it/s]"
     ]
    },
    {
     "name": "stdout",
     "output_type": "stream",
     "text": [
      "Warning: Not all specified columns are present in DoS-UDP_Flood/DoS-UDP_Flood5.pcap.csv\n",
      "Warning: Not all specified columns are present in DoS-UDP_Flood/DoS-UDP_Flood6.pcap.csv\n"
     ]
    },
    {
     "name": "stderr",
     "output_type": "stream",
     "text": [
      " 85%|████████▍ | 194/229 [00:43<00:07,  4.92it/s]"
     ]
    },
    {
     "name": "stdout",
     "output_type": "stream",
     "text": [
      "Warning: Not all specified columns are present in DoS-UDP_Flood/DoS-UDP_Flood7.pcap.csv\n"
     ]
    },
    {
     "name": "stderr",
     "output_type": "stream",
     "text": [
      " 85%|████████▌ | 195/229 [00:43<00:07,  4.39it/s]"
     ]
    },
    {
     "name": "stdout",
     "output_type": "stream",
     "text": [
      "Warning: Not all specified columns are present in DoS-UDP_Flood/DoS-UDP_Flood8.pcap.csv\n"
     ]
    },
    {
     "name": "stderr",
     "output_type": "stream",
     "text": [
      " 87%|████████▋ | 200/229 [00:43<00:03,  9.42it/s]"
     ]
    },
    {
     "name": "stdout",
     "output_type": "stream",
     "text": [
      "Warning: Not all specified columns are present in DoS-UDP_Flood/DoS-UDP_Flood9.pcap.csv\n",
      "Warning: Not all specified columns are present in DoS-UDP_Fragmentation/DDoS-UDP_Fragmentation.pcap.csv\n",
      "Warning: Not all specified columns are present in DoS-UDP_Fragmentation/DDoS-UDP_Fragmentation1.pcap.csv\n",
      "Warning: Not all specified columns are present in DoS-UDP_Fragmentation/DDoS-UDP_Fragmentation10.pcap.csv\n",
      "Warning: Not all specified columns are present in DoS-UDP_Fragmentation/DDoS-UDP_Fragmentation11.pcap.csv\n",
      "Warning: Not all specified columns are present in DoS-UDP_Fragmentation/DDoS-UDP_Fragmentation12.pcap.csv\n",
      "Warning: Not all specified columns are present in DoS-UDP_Fragmentation/DDoS-UDP_Fragmentation2.pcap.csv\n",
      "Warning: Not all specified columns are present in DoS-UDP_Fragmentation/DDoS-UDP_Fragmentation3.pcap.csv\n"
     ]
    },
    {
     "name": "stderr",
     "output_type": "stream",
     "text": [
      " 91%|█████████▏| 209/229 [00:44<00:00, 20.17it/s]"
     ]
    },
    {
     "name": "stdout",
     "output_type": "stream",
     "text": [
      "Warning: Not all specified columns are present in DoS-UDP_Fragmentation/DDoS-UDP_Fragmentation4.pcap.csv\n",
      "Warning: Not all specified columns are present in DoS-UDP_Fragmentation/DDoS-UDP_Fragmentation5.pcap.csv\n",
      "Warning: Not all specified columns are present in DoS-UDP_Fragmentation/DDoS-UDP_Fragmentation6.pcap.csv\n",
      "Warning: Not all specified columns are present in DoS-UDP_Fragmentation/DDoS-UDP_Fragmentation7.pcap.csv\n",
      "Warning: Not all specified columns are present in DoS-UDP_Fragmentation/DDoS-UDP_Fragmentation8.pcap.csv\n",
      "Warning: Not all specified columns are present in DoS-UDP_Fragmentation/DDoS-UDP_Fragmentation9.pcap.csv\n"
     ]
    },
    {
     "name": "stderr",
     "output_type": "stream",
     "text": [
      " 93%|█████████▎| 212/229 [00:44<00:01, 13.82it/s]"
     ]
    },
    {
     "name": "stdout",
     "output_type": "stream",
     "text": [
      "Warning: Not all specified columns are present in MITM-ArpSpoofing/MITM-ArpSpoofing.pcap.csv\n",
      "Warning: Not all specified columns are present in MITM-ArpSpoofing/MITM-ArpSpoofing1.pcap.csv\n",
      "Warning: Not all specified columns are present in Mirai-greeth_flood/Mirai-greeth_flood.pcap.csv\n",
      "Warning: Not all specified columns are present in Mirai-greeth_flood/Mirai-greeth_flood1.pcap.csv\n",
      "Warning: Not all specified columns are present in Mirai-greeth_flood/Mirai-greeth_flood10.pcap.csv\n"
     ]
    },
    {
     "name": "stderr",
     "output_type": "stream",
     "text": [
      " 95%|█████████▌| 218/229 [00:44<00:00, 18.23it/s]"
     ]
    },
    {
     "name": "stdout",
     "output_type": "stream",
     "text": [
      "Warning: Not all specified columns are present in Mirai-greeth_flood/Mirai-greeth_flood11.pcap.csv\n",
      "Warning: Not all specified columns are present in Mirai-greeth_flood/Mirai-greeth_flood12.pcap.csv\n",
      "Warning: Not all specified columns are present in Mirai-greeth_flood/Mirai-greeth_flood13.pcap.csv\n",
      "Warning: Not all specified columns are present in Mirai-greeth_flood/Mirai-greeth_flood14.pcap.csv\n",
      "Warning: Not all specified columns are present in Mirai-greeth_flood/Mirai-greeth_flood15.pcap.csv\n",
      "Warning: Not all specified columns are present in Mirai-greeth_flood/Mirai-greeth_flood16.pcap.csv\n"
     ]
    },
    {
     "name": "stderr",
     "output_type": "stream",
     "text": [
      " 98%|█████████▊| 224/229 [00:44<00:00, 21.75it/s]"
     ]
    },
    {
     "name": "stdout",
     "output_type": "stream",
     "text": [
      "Warning: Not all specified columns are present in Mirai-greeth_flood/Mirai-greeth_flood17.pcap.csv\n",
      "Warning: Not all specified columns are present in Mirai-greeth_flood/Mirai-greeth_flood18.pcap.csv\n",
      "Warning: Not all specified columns are present in Mirai-greeth_flood/Mirai-greeth_flood19.pcap.csv\n",
      "Warning: Not all specified columns are present in Mirai-greeth_flood/Mirai-greeth_flood2.pcap.csv\n",
      "Warning: Not all specified columns are present in Mirai-greeth_flood/Mirai-greeth_flood20.pcap.csv\n",
      "Warning: Not all specified columns are present in Mirai-greeth_flood/Mirai-greeth_flood3.pcap.csv\n"
     ]
    },
    {
     "name": "stderr",
     "output_type": "stream",
     "text": [
      "100%|██████████| 229/229 [00:45<00:00,  5.08it/s]"
     ]
    },
    {
     "name": "stdout",
     "output_type": "stream",
     "text": [
      "Warning: Not all specified columns are present in Mirai-greeth_flood/Mirai-greeth_flood4.pcap.csv\n",
      "Warning: Not all specified columns are present in Mirai-greeth_flood/Mirai-greeth_flood5.pcap.csv\n",
      "Warning: Not all specified columns are present in Mirai-greeth_flood/Mirai-greeth_flood6.pcap.csv\n"
     ]
    },
    {
     "name": "stderr",
     "output_type": "stream",
     "text": [
      "\n"
     ]
    }
   ],
   "source": [
    "# Importing feature scaler to help normalize feature values\n",
    "# The scales of the features are different, so we need to normalize them to have mean 0 and standard deviation of 1\n",
    "\n",
    "from sklearn.preprocessing import MinMaxScaler, StandardScaler\n",
    "\n",
    "scaler = StandardScaler\n",
    "\n",
    "# Fiting the scaler\n",
    "for train_file in tqdm(train_set):\n",
    "    # Construct the full path to the CSV file\n",
    "    full_path = os.path.join(Dataset_Directory, train_file)\n",
    "    \n",
    "    # Read the CSV file\n",
    "    df = pd.read_csv(full_path)\n",
    "    \n",
    "    # Check if the columns exist in the DataFrame\n",
    "    if all(col in df.columns for col in X_columns):\n",
    "        # Fit the scaler on the specified columns\n",
    "        scaler.fit(df[X_columns])\n",
    "        # Perform other operations as needed (e.g., transforming data)\n",
    "    else:\n",
    "        print(f\"Warning: Not all specified columns are present in {train_file}\")\n"
   ]
  },
  {
   "cell_type": "markdown",
   "metadata": {},
   "source": [
    "#### Model Classification"
   ]
  },
  {
   "cell_type": "code",
   "execution_count": 38,
   "metadata": {},
   "outputs": [
    {
     "name": "stderr",
     "output_type": "stream",
     "text": [
      "  0%|          | 0/42 [00:00<?, ?it/s]\n"
     ]
    },
    {
     "ename": "FileNotFoundError",
     "evalue": "[Errno 2] No such file or directory: '/home/jbenyam/threatdetection/dataset/csvB'",
     "output_type": "error",
     "traceback": [
      "\u001b[0;31m---------------------------------------------------------------------------\u001b[0m",
      "\u001b[0;31mFileNotFoundError\u001b[0m                         Traceback (most recent call last)",
      "Cell \u001b[0;32mIn[38], line 6\u001b[0m\n\u001b[1;32m      4\u001b[0m \u001b[38;5;66;03m# Training the models\u001b[39;00m\n\u001b[1;32m      5\u001b[0m \u001b[38;5;28;01mfor\u001b[39;00m train_set \u001b[38;5;129;01min\u001b[39;00m tqdm(train_set): \u001b[38;5;66;03m# Loops through the training sets files\u001b[39;00m\n\u001b[0;32m----> 6\u001b[0m     d \u001b[38;5;241m=\u001b[39m \u001b[43mpd\u001b[49m\u001b[38;5;241;43m.\u001b[39;49m\u001b[43mread_csv\u001b[49m\u001b[43m(\u001b[49m\u001b[43mDataset_Directory\u001b[49m\u001b[43m \u001b[49m\u001b[38;5;241;43m+\u001b[39;49m\u001b[43m \u001b[49m\u001b[43mtrain_set\u001b[49m\u001b[43m)\u001b[49m \u001b[38;5;66;03m# Reads the dataset in Pandas\u001b[39;00m\n\u001b[1;32m      7\u001b[0m     d[X_columns] \u001b[38;5;241m=\u001b[39m scaler\u001b[38;5;241m.\u001b[39mtransform(d[X_columns]) \u001b[38;5;66;03m# Scales features in the dataset\u001b[39;00m\n\u001b[1;32m      8\u001b[0m     \u001b[38;5;28;01mfor\u001b[39;00m model \u001b[38;5;129;01min\u001b[39;00m (ML_models): \n",
      "File \u001b[0;32m~/conda-init/envs/rapids_env/lib/python3.11/site-packages/pandas/io/parsers/readers.py:1026\u001b[0m, in \u001b[0;36mread_csv\u001b[0;34m(filepath_or_buffer, sep, delimiter, header, names, index_col, usecols, dtype, engine, converters, true_values, false_values, skipinitialspace, skiprows, skipfooter, nrows, na_values, keep_default_na, na_filter, verbose, skip_blank_lines, parse_dates, infer_datetime_format, keep_date_col, date_parser, date_format, dayfirst, cache_dates, iterator, chunksize, compression, thousands, decimal, lineterminator, quotechar, quoting, doublequote, escapechar, comment, encoding, encoding_errors, dialect, on_bad_lines, delim_whitespace, low_memory, memory_map, float_precision, storage_options, dtype_backend)\u001b[0m\n\u001b[1;32m   1013\u001b[0m kwds_defaults \u001b[38;5;241m=\u001b[39m _refine_defaults_read(\n\u001b[1;32m   1014\u001b[0m     dialect,\n\u001b[1;32m   1015\u001b[0m     delimiter,\n\u001b[0;32m   (...)\u001b[0m\n\u001b[1;32m   1022\u001b[0m     dtype_backend\u001b[38;5;241m=\u001b[39mdtype_backend,\n\u001b[1;32m   1023\u001b[0m )\n\u001b[1;32m   1024\u001b[0m kwds\u001b[38;5;241m.\u001b[39mupdate(kwds_defaults)\n\u001b[0;32m-> 1026\u001b[0m \u001b[38;5;28;01mreturn\u001b[39;00m \u001b[43m_read\u001b[49m\u001b[43m(\u001b[49m\u001b[43mfilepath_or_buffer\u001b[49m\u001b[43m,\u001b[49m\u001b[43m \u001b[49m\u001b[43mkwds\u001b[49m\u001b[43m)\u001b[49m\n",
      "File \u001b[0;32m~/conda-init/envs/rapids_env/lib/python3.11/site-packages/pandas/io/parsers/readers.py:620\u001b[0m, in \u001b[0;36m_read\u001b[0;34m(filepath_or_buffer, kwds)\u001b[0m\n\u001b[1;32m    617\u001b[0m _validate_names(kwds\u001b[38;5;241m.\u001b[39mget(\u001b[38;5;124m\"\u001b[39m\u001b[38;5;124mnames\u001b[39m\u001b[38;5;124m\"\u001b[39m, \u001b[38;5;28;01mNone\u001b[39;00m))\n\u001b[1;32m    619\u001b[0m \u001b[38;5;66;03m# Create the parser.\u001b[39;00m\n\u001b[0;32m--> 620\u001b[0m parser \u001b[38;5;241m=\u001b[39m \u001b[43mTextFileReader\u001b[49m\u001b[43m(\u001b[49m\u001b[43mfilepath_or_buffer\u001b[49m\u001b[43m,\u001b[49m\u001b[43m \u001b[49m\u001b[38;5;241;43m*\u001b[39;49m\u001b[38;5;241;43m*\u001b[39;49m\u001b[43mkwds\u001b[49m\u001b[43m)\u001b[49m\n\u001b[1;32m    622\u001b[0m \u001b[38;5;28;01mif\u001b[39;00m chunksize \u001b[38;5;129;01mor\u001b[39;00m iterator:\n\u001b[1;32m    623\u001b[0m     \u001b[38;5;28;01mreturn\u001b[39;00m parser\n",
      "File \u001b[0;32m~/conda-init/envs/rapids_env/lib/python3.11/site-packages/pandas/io/parsers/readers.py:1620\u001b[0m, in \u001b[0;36mTextFileReader.__init__\u001b[0;34m(self, f, engine, **kwds)\u001b[0m\n\u001b[1;32m   1617\u001b[0m     \u001b[38;5;28mself\u001b[39m\u001b[38;5;241m.\u001b[39moptions[\u001b[38;5;124m\"\u001b[39m\u001b[38;5;124mhas_index_names\u001b[39m\u001b[38;5;124m\"\u001b[39m] \u001b[38;5;241m=\u001b[39m kwds[\u001b[38;5;124m\"\u001b[39m\u001b[38;5;124mhas_index_names\u001b[39m\u001b[38;5;124m\"\u001b[39m]\n\u001b[1;32m   1619\u001b[0m \u001b[38;5;28mself\u001b[39m\u001b[38;5;241m.\u001b[39mhandles: IOHandles \u001b[38;5;241m|\u001b[39m \u001b[38;5;28;01mNone\u001b[39;00m \u001b[38;5;241m=\u001b[39m \u001b[38;5;28;01mNone\u001b[39;00m\n\u001b[0;32m-> 1620\u001b[0m \u001b[38;5;28mself\u001b[39m\u001b[38;5;241m.\u001b[39m_engine \u001b[38;5;241m=\u001b[39m \u001b[38;5;28;43mself\u001b[39;49m\u001b[38;5;241;43m.\u001b[39;49m\u001b[43m_make_engine\u001b[49m\u001b[43m(\u001b[49m\u001b[43mf\u001b[49m\u001b[43m,\u001b[49m\u001b[43m \u001b[49m\u001b[38;5;28;43mself\u001b[39;49m\u001b[38;5;241;43m.\u001b[39;49m\u001b[43mengine\u001b[49m\u001b[43m)\u001b[49m\n",
      "File \u001b[0;32m~/conda-init/envs/rapids_env/lib/python3.11/site-packages/pandas/io/parsers/readers.py:1880\u001b[0m, in \u001b[0;36mTextFileReader._make_engine\u001b[0;34m(self, f, engine)\u001b[0m\n\u001b[1;32m   1878\u001b[0m     \u001b[38;5;28;01mif\u001b[39;00m \u001b[38;5;124m\"\u001b[39m\u001b[38;5;124mb\u001b[39m\u001b[38;5;124m\"\u001b[39m \u001b[38;5;129;01mnot\u001b[39;00m \u001b[38;5;129;01min\u001b[39;00m mode:\n\u001b[1;32m   1879\u001b[0m         mode \u001b[38;5;241m+\u001b[39m\u001b[38;5;241m=\u001b[39m \u001b[38;5;124m\"\u001b[39m\u001b[38;5;124mb\u001b[39m\u001b[38;5;124m\"\u001b[39m\n\u001b[0;32m-> 1880\u001b[0m \u001b[38;5;28mself\u001b[39m\u001b[38;5;241m.\u001b[39mhandles \u001b[38;5;241m=\u001b[39m \u001b[43mget_handle\u001b[49m\u001b[43m(\u001b[49m\n\u001b[1;32m   1881\u001b[0m \u001b[43m    \u001b[49m\u001b[43mf\u001b[49m\u001b[43m,\u001b[49m\n\u001b[1;32m   1882\u001b[0m \u001b[43m    \u001b[49m\u001b[43mmode\u001b[49m\u001b[43m,\u001b[49m\n\u001b[1;32m   1883\u001b[0m \u001b[43m    \u001b[49m\u001b[43mencoding\u001b[49m\u001b[38;5;241;43m=\u001b[39;49m\u001b[38;5;28;43mself\u001b[39;49m\u001b[38;5;241;43m.\u001b[39;49m\u001b[43moptions\u001b[49m\u001b[38;5;241;43m.\u001b[39;49m\u001b[43mget\u001b[49m\u001b[43m(\u001b[49m\u001b[38;5;124;43m\"\u001b[39;49m\u001b[38;5;124;43mencoding\u001b[39;49m\u001b[38;5;124;43m\"\u001b[39;49m\u001b[43m,\u001b[49m\u001b[43m \u001b[49m\u001b[38;5;28;43;01mNone\u001b[39;49;00m\u001b[43m)\u001b[49m\u001b[43m,\u001b[49m\n\u001b[1;32m   1884\u001b[0m \u001b[43m    \u001b[49m\u001b[43mcompression\u001b[49m\u001b[38;5;241;43m=\u001b[39;49m\u001b[38;5;28;43mself\u001b[39;49m\u001b[38;5;241;43m.\u001b[39;49m\u001b[43moptions\u001b[49m\u001b[38;5;241;43m.\u001b[39;49m\u001b[43mget\u001b[49m\u001b[43m(\u001b[49m\u001b[38;5;124;43m\"\u001b[39;49m\u001b[38;5;124;43mcompression\u001b[39;49m\u001b[38;5;124;43m\"\u001b[39;49m\u001b[43m,\u001b[49m\u001b[43m \u001b[49m\u001b[38;5;28;43;01mNone\u001b[39;49;00m\u001b[43m)\u001b[49m\u001b[43m,\u001b[49m\n\u001b[1;32m   1885\u001b[0m \u001b[43m    \u001b[49m\u001b[43mmemory_map\u001b[49m\u001b[38;5;241;43m=\u001b[39;49m\u001b[38;5;28;43mself\u001b[39;49m\u001b[38;5;241;43m.\u001b[39;49m\u001b[43moptions\u001b[49m\u001b[38;5;241;43m.\u001b[39;49m\u001b[43mget\u001b[49m\u001b[43m(\u001b[49m\u001b[38;5;124;43m\"\u001b[39;49m\u001b[38;5;124;43mmemory_map\u001b[39;49m\u001b[38;5;124;43m\"\u001b[39;49m\u001b[43m,\u001b[49m\u001b[43m \u001b[49m\u001b[38;5;28;43;01mFalse\u001b[39;49;00m\u001b[43m)\u001b[49m\u001b[43m,\u001b[49m\n\u001b[1;32m   1886\u001b[0m \u001b[43m    \u001b[49m\u001b[43mis_text\u001b[49m\u001b[38;5;241;43m=\u001b[39;49m\u001b[43mis_text\u001b[49m\u001b[43m,\u001b[49m\n\u001b[1;32m   1887\u001b[0m \u001b[43m    \u001b[49m\u001b[43merrors\u001b[49m\u001b[38;5;241;43m=\u001b[39;49m\u001b[38;5;28;43mself\u001b[39;49m\u001b[38;5;241;43m.\u001b[39;49m\u001b[43moptions\u001b[49m\u001b[38;5;241;43m.\u001b[39;49m\u001b[43mget\u001b[49m\u001b[43m(\u001b[49m\u001b[38;5;124;43m\"\u001b[39;49m\u001b[38;5;124;43mencoding_errors\u001b[39;49m\u001b[38;5;124;43m\"\u001b[39;49m\u001b[43m,\u001b[49m\u001b[43m \u001b[49m\u001b[38;5;124;43m\"\u001b[39;49m\u001b[38;5;124;43mstrict\u001b[39;49m\u001b[38;5;124;43m\"\u001b[39;49m\u001b[43m)\u001b[49m\u001b[43m,\u001b[49m\n\u001b[1;32m   1888\u001b[0m \u001b[43m    \u001b[49m\u001b[43mstorage_options\u001b[49m\u001b[38;5;241;43m=\u001b[39;49m\u001b[38;5;28;43mself\u001b[39;49m\u001b[38;5;241;43m.\u001b[39;49m\u001b[43moptions\u001b[49m\u001b[38;5;241;43m.\u001b[39;49m\u001b[43mget\u001b[49m\u001b[43m(\u001b[49m\u001b[38;5;124;43m\"\u001b[39;49m\u001b[38;5;124;43mstorage_options\u001b[39;49m\u001b[38;5;124;43m\"\u001b[39;49m\u001b[43m,\u001b[49m\u001b[43m \u001b[49m\u001b[38;5;28;43;01mNone\u001b[39;49;00m\u001b[43m)\u001b[49m\u001b[43m,\u001b[49m\n\u001b[1;32m   1889\u001b[0m \u001b[43m\u001b[49m\u001b[43m)\u001b[49m\n\u001b[1;32m   1890\u001b[0m \u001b[38;5;28;01massert\u001b[39;00m \u001b[38;5;28mself\u001b[39m\u001b[38;5;241m.\u001b[39mhandles \u001b[38;5;129;01mis\u001b[39;00m \u001b[38;5;129;01mnot\u001b[39;00m \u001b[38;5;28;01mNone\u001b[39;00m\n\u001b[1;32m   1891\u001b[0m f \u001b[38;5;241m=\u001b[39m \u001b[38;5;28mself\u001b[39m\u001b[38;5;241m.\u001b[39mhandles\u001b[38;5;241m.\u001b[39mhandle\n",
      "File \u001b[0;32m~/conda-init/envs/rapids_env/lib/python3.11/site-packages/pandas/io/common.py:873\u001b[0m, in \u001b[0;36mget_handle\u001b[0;34m(path_or_buf, mode, encoding, compression, memory_map, is_text, errors, storage_options)\u001b[0m\n\u001b[1;32m    868\u001b[0m \u001b[38;5;28;01melif\u001b[39;00m \u001b[38;5;28misinstance\u001b[39m(handle, \u001b[38;5;28mstr\u001b[39m):\n\u001b[1;32m    869\u001b[0m     \u001b[38;5;66;03m# Check whether the filename is to be opened in binary mode.\u001b[39;00m\n\u001b[1;32m    870\u001b[0m     \u001b[38;5;66;03m# Binary mode does not support 'encoding' and 'newline'.\u001b[39;00m\n\u001b[1;32m    871\u001b[0m     \u001b[38;5;28;01mif\u001b[39;00m ioargs\u001b[38;5;241m.\u001b[39mencoding \u001b[38;5;129;01mand\u001b[39;00m \u001b[38;5;124m\"\u001b[39m\u001b[38;5;124mb\u001b[39m\u001b[38;5;124m\"\u001b[39m \u001b[38;5;129;01mnot\u001b[39;00m \u001b[38;5;129;01min\u001b[39;00m ioargs\u001b[38;5;241m.\u001b[39mmode:\n\u001b[1;32m    872\u001b[0m         \u001b[38;5;66;03m# Encoding\u001b[39;00m\n\u001b[0;32m--> 873\u001b[0m         handle \u001b[38;5;241m=\u001b[39m \u001b[38;5;28mopen\u001b[39m(\n\u001b[1;32m    874\u001b[0m             handle,\n\u001b[1;32m    875\u001b[0m             ioargs\u001b[38;5;241m.\u001b[39mmode,\n\u001b[1;32m    876\u001b[0m             encoding\u001b[38;5;241m=\u001b[39mioargs\u001b[38;5;241m.\u001b[39mencoding,\n\u001b[1;32m    877\u001b[0m             errors\u001b[38;5;241m=\u001b[39merrors,\n\u001b[1;32m    878\u001b[0m             newline\u001b[38;5;241m=\u001b[39m\u001b[38;5;124m\"\u001b[39m\u001b[38;5;124m\"\u001b[39m,\n\u001b[1;32m    879\u001b[0m         )\n\u001b[1;32m    880\u001b[0m     \u001b[38;5;28;01melse\u001b[39;00m:\n\u001b[1;32m    881\u001b[0m         \u001b[38;5;66;03m# Binary mode\u001b[39;00m\n\u001b[1;32m    882\u001b[0m         handle \u001b[38;5;241m=\u001b[39m \u001b[38;5;28mopen\u001b[39m(handle, ioargs\u001b[38;5;241m.\u001b[39mmode)\n",
      "\u001b[0;31mFileNotFoundError\u001b[0m: [Errno 2] No such file or directory: '/home/jbenyam/threatdetection/dataset/csvB'"
     ]
    }
   ],
   "source": [
    "ML_models = [LogisticRegression(n_jobs=-1),] # List of ML models used for classification\n",
    "ML_names = ['Logistic Regression',] # Model names for reference\n",
    "\n",
    "# Training the models\n",
    "for train_set in tqdm(train_set): # Loops through the training sets files\n",
    "    d = pd.read_csv(Dataset_Directory + train_set) # Reads the dataset in Pandas\n",
    "    d[X_columns] = scaler.transform(d[X_columns]) # Scales features in the dataset\n",
    "    for model in (ML_models): \n",
    "        model.fit(d[X_columns], d[y_column]) # Trains the model on the scaled features and labels\n",
    "    del d # Deletes the dataset to free up memory\n"
   ]
  },
  {
   "cell_type": "markdown",
   "metadata": {},
   "source": [
    "#### Evaluating Model Performance"
   ]
  },
  {
   "cell_type": "markdown",
   "metadata": {},
   "source": []
  },
  {
   "cell_type": "code",
   "execution_count": 9,
   "metadata": {},
   "outputs": [
    {
     "name": "stderr",
     "output_type": "stream",
     "text": [
      "0it [00:00, ?it/s]\n"
     ]
    }
   ],
   "source": [
    "y_test = [] #  Initializes a list to store the true labels for the test sets.\n",
    "preds = {i:[] for i in range(len(ML_models))} # Initializes a dictionary to store the predictions of the models for the test sets.\n",
    "for test_set in tqdm(test_sets): # Loops through the test sets files\n",
    "    d_test = pd.read_csv(DATASET_DIRECTORY + test_set) # Reads the dataset in Pandas\n",
    "    d_test[X_columns] = scaler.transform(d_test[X_columns]) # Scales features in the dataset\n",
    "    \n",
    "    y_test += list(d_test[y_column].values) # Appends the true labels to the y_test list\n",
    "    \n",
    "    for i in range(len(ML_models)): # Loops through the models\n",
    "        model = ML_models[i] # Selects the model\n",
    "        y_pred = list(model.predict(d_test[X_columns])) # Predicts the labels of the test set\n",
    "        preds[i] = preds[i] + y_pred # Appends the predictions to the dictionary\n"
   ]
  },
  {
   "cell_type": "markdown",
   "metadata": {},
   "source": [
    "#### Calculating Metrics"
   ]
  },
  {
   "cell_type": "code",
   "execution_count": 11,
   "metadata": {},
   "outputs": [
    {
     "name": "stdout",
     "output_type": "stream",
     "text": [
      "##### Logistic Regression (34 classes) #####\n",
      "accuracy_score:  nan\n",
      "recall_score:  nan\n",
      "precision_score:  nan\n",
      "f1_score:  nan\n",
      "\n",
      "\n",
      "\n"
     ]
    }
   ],
   "source": [
    "from sklearn.metrics import accuracy_score, recall_score, precision_score, f1_score\n",
    "for k,v in preds.items(): # Loops through the predictions\n",
    "    y_pred = v # Retrieves the predictions for the model\n",
    "    print(f\"##### {ML_names[k]} (34 classes) #####\") # Prints the model name \n",
    "    print('accuracy_score: ', accuracy_score(y_pred, y_test)) # Prints the accuracy score\n",
    "    print('recall_score: ', recall_score(y_pred, y_test, average='macro')) # Prints the recall score\n",
    "    print('precision_score: ', precision_score(y_pred, y_test, average='macro')) # Prints the precision score\n",
    "    print('f1_score: ', f1_score(y_pred, y_test, average='macro')) # Prints the F1 score\n",
    "    print()\n",
    "    print()\n",
    "    print()\n"
   ]
  },
  {
   "cell_type": "markdown",
   "metadata": {},
   "source": []
  },
  {
   "cell_type": "markdown",
   "metadata": {},
   "source": [
    "#### Mapping Classes (7 classes)"
   ]
  },
  {
   "cell_type": "markdown",
   "metadata": {},
   "source": [
    "##### A dictionary to map the original class labels to simplified class labels for a 7-class classification."
   ]
  },
  {
   "cell_type": "code",
   "execution_count": 12,
   "metadata": {},
   "outputs": [],
   "source": [
    "dict_11classes = {} # Initializes a dictionary to store the predictions of the models for the test sets.\n",
    "dict_11classes['DDoS-ACK_Fragmentation'] = 'DDoS'\n",
    "dict_11classes['DDoS-HTTP_Flood'] = 'DDoS'\n",
    "dict_11classes['DDoS-ICMP_Flood'] = 'DDoS'\n",
    "dict_11classes['DDoS-ICMP_Fragmentation'] = 'DDoS'\n",
    "dict_11classes['DDoS-PSHACK_FLOOD'] = 'DDoS'\n",
    "dict_11classes['DDoS-RSTFINFFLOOD'] = 'DDoS'\n",
    "dict_11classes['DDoS-SlowLoris'] = 'DDoS'\n",
    "dict_11classes['DDoS-SYN_Flood'] = 'DDoS'\n",
    "dict_11classes['DDoS-SynonymousIP_Flood'] = 'DDoS'\n",
    "dict_11classes['DDoS-TCP_Flood'] = 'DDoS'\n",
    "dict_11classes['DDoS-UDP_Flood'] = 'DDoS'\n"
   ]
  },
  {
   "cell_type": "markdown",
   "metadata": {},
   "source": [
    "### Outputing Metrics from Classification Report"
   ]
  },
  {
   "cell_type": "code",
   "execution_count": 14,
   "metadata": {},
   "outputs": [
    {
     "name": "stdout",
     "output_type": "stream",
     "text": [
      "##### Logistic Regression (11 classes) #####\n"
     ]
    },
    {
     "ename": "ValueError",
     "evalue": "max() arg is an empty sequence",
     "output_type": "error",
     "traceback": [
      "\u001b[0;31m---------------------------------------------------------------------------\u001b[0m",
      "\u001b[0;31mValueError\u001b[0m                                Traceback (most recent call last)",
      "Cell \u001b[0;32mIn[14], line 7\u001b[0m\n\u001b[1;32m      5\u001b[0m y_pred_simple \u001b[38;5;241m=\u001b[39m [dict_11classes[y] \u001b[38;5;28;01mfor\u001b[39;00m y \u001b[38;5;129;01min\u001b[39;00m y_pred] \u001b[38;5;66;03m# Maps the predicted labels to the 11 labels\u001b[39;00m\n\u001b[1;32m      6\u001b[0m \u001b[38;5;28mprint\u001b[39m(\u001b[38;5;124mf\u001b[39m\u001b[38;5;124m\"\u001b[39m\u001b[38;5;124m##### \u001b[39m\u001b[38;5;132;01m{\u001b[39;00mML_names[k]\u001b[38;5;132;01m}\u001b[39;00m\u001b[38;5;124m (11 classes) #####\u001b[39m\u001b[38;5;124m\"\u001b[39m)\n\u001b[0;32m----> 7\u001b[0m \u001b[38;5;28mprint\u001b[39m(\u001b[43mclassification_report\u001b[49m\u001b[43m(\u001b[49m\u001b[43my_test_simple\u001b[49m\u001b[43m,\u001b[49m\u001b[43m \u001b[49m\u001b[43my_pred_simple\u001b[49m\u001b[43m)\u001b[49m)\n\u001b[1;32m      8\u001b[0m \u001b[38;5;28mprint\u001b[39m()\n\u001b[1;32m      9\u001b[0m \u001b[38;5;28mprint\u001b[39m()\n",
      "File \u001b[0;32m~/conda-init/envs/rapids_env/lib/python3.11/site-packages/sklearn/utils/_param_validation.py:213\u001b[0m, in \u001b[0;36mvalidate_params.<locals>.decorator.<locals>.wrapper\u001b[0;34m(*args, **kwargs)\u001b[0m\n\u001b[1;32m    207\u001b[0m \u001b[38;5;28;01mtry\u001b[39;00m:\n\u001b[1;32m    208\u001b[0m     \u001b[38;5;28;01mwith\u001b[39;00m config_context(\n\u001b[1;32m    209\u001b[0m         skip_parameter_validation\u001b[38;5;241m=\u001b[39m(\n\u001b[1;32m    210\u001b[0m             prefer_skip_nested_validation \u001b[38;5;129;01mor\u001b[39;00m global_skip_validation\n\u001b[1;32m    211\u001b[0m         )\n\u001b[1;32m    212\u001b[0m     ):\n\u001b[0;32m--> 213\u001b[0m         \u001b[38;5;28;01mreturn\u001b[39;00m \u001b[43mfunc\u001b[49m\u001b[43m(\u001b[49m\u001b[38;5;241;43m*\u001b[39;49m\u001b[43margs\u001b[49m\u001b[43m,\u001b[49m\u001b[43m \u001b[49m\u001b[38;5;241;43m*\u001b[39;49m\u001b[38;5;241;43m*\u001b[39;49m\u001b[43mkwargs\u001b[49m\u001b[43m)\u001b[49m\n\u001b[1;32m    214\u001b[0m \u001b[38;5;28;01mexcept\u001b[39;00m InvalidParameterError \u001b[38;5;28;01mas\u001b[39;00m e:\n\u001b[1;32m    215\u001b[0m     \u001b[38;5;66;03m# When the function is just a wrapper around an estimator, we allow\u001b[39;00m\n\u001b[1;32m    216\u001b[0m     \u001b[38;5;66;03m# the function to delegate validation to the estimator, but we replace\u001b[39;00m\n\u001b[1;32m    217\u001b[0m     \u001b[38;5;66;03m# the name of the estimator by the name of the function in the error\u001b[39;00m\n\u001b[1;32m    218\u001b[0m     \u001b[38;5;66;03m# message to avoid confusion.\u001b[39;00m\n\u001b[1;32m    219\u001b[0m     msg \u001b[38;5;241m=\u001b[39m re\u001b[38;5;241m.\u001b[39msub(\n\u001b[1;32m    220\u001b[0m         \u001b[38;5;124mr\u001b[39m\u001b[38;5;124m\"\u001b[39m\u001b[38;5;124mparameter of \u001b[39m\u001b[38;5;124m\\\u001b[39m\u001b[38;5;124mw+ must be\u001b[39m\u001b[38;5;124m\"\u001b[39m,\n\u001b[1;32m    221\u001b[0m         \u001b[38;5;124mf\u001b[39m\u001b[38;5;124m\"\u001b[39m\u001b[38;5;124mparameter of \u001b[39m\u001b[38;5;132;01m{\u001b[39;00mfunc\u001b[38;5;241m.\u001b[39m\u001b[38;5;18m__qualname__\u001b[39m\u001b[38;5;132;01m}\u001b[39;00m\u001b[38;5;124m must be\u001b[39m\u001b[38;5;124m\"\u001b[39m,\n\u001b[1;32m    222\u001b[0m         \u001b[38;5;28mstr\u001b[39m(e),\n\u001b[1;32m    223\u001b[0m     )\n",
      "File \u001b[0;32m~/conda-init/envs/rapids_env/lib/python3.11/site-packages/sklearn/metrics/_classification.py:2679\u001b[0m, in \u001b[0;36mclassification_report\u001b[0;34m(y_true, y_pred, labels, target_names, sample_weight, digits, output_dict, zero_division)\u001b[0m\n\u001b[1;32m   2677\u001b[0m \u001b[38;5;28;01melse\u001b[39;00m:\n\u001b[1;32m   2678\u001b[0m     longest_last_line_heading \u001b[38;5;241m=\u001b[39m \u001b[38;5;124m\"\u001b[39m\u001b[38;5;124mweighted avg\u001b[39m\u001b[38;5;124m\"\u001b[39m\n\u001b[0;32m-> 2679\u001b[0m     name_width \u001b[38;5;241m=\u001b[39m \u001b[38;5;28;43mmax\u001b[39;49m\u001b[43m(\u001b[49m\u001b[38;5;28;43mlen\u001b[39;49m\u001b[43m(\u001b[49m\u001b[43mcn\u001b[49m\u001b[43m)\u001b[49m\u001b[43m \u001b[49m\u001b[38;5;28;43;01mfor\u001b[39;49;00m\u001b[43m \u001b[49m\u001b[43mcn\u001b[49m\u001b[43m \u001b[49m\u001b[38;5;129;43;01min\u001b[39;49;00m\u001b[43m \u001b[49m\u001b[43mtarget_names\u001b[49m\u001b[43m)\u001b[49m\n\u001b[1;32m   2680\u001b[0m     width \u001b[38;5;241m=\u001b[39m \u001b[38;5;28mmax\u001b[39m(name_width, \u001b[38;5;28mlen\u001b[39m(longest_last_line_heading), digits)\n\u001b[1;32m   2681\u001b[0m     head_fmt \u001b[38;5;241m=\u001b[39m \u001b[38;5;124m\"\u001b[39m\u001b[38;5;124m{\u001b[39m\u001b[38;5;124m:>\u001b[39m\u001b[38;5;132;01m{width}\u001b[39;00m\u001b[38;5;124ms} \u001b[39m\u001b[38;5;124m\"\u001b[39m \u001b[38;5;241m+\u001b[39m \u001b[38;5;124m\"\u001b[39m\u001b[38;5;124m \u001b[39m\u001b[38;5;132;01m{:>9}\u001b[39;00m\u001b[38;5;124m\"\u001b[39m \u001b[38;5;241m*\u001b[39m \u001b[38;5;28mlen\u001b[39m(headers)\n",
      "\u001b[0;31mValueError\u001b[0m: max() arg is an empty sequence"
     ]
    }
   ],
   "source": [
    "from sklearn.metrics import classification_report\n",
    "for k,v in preds.items(): # Maps the true labels to the 11 classes\n",
    "    y_pred = v\n",
    "    y_test_simple = [dict_11classes[y] for y in y_test] # Maps the true labels to the 11 labels\n",
    "    y_pred_simple = [dict_11classes[y] for y in y_pred] # Maps the predicted labels to the 11 labels\n",
    "    print(f\"##### {ML_names[k]} (11 classes) #####\")\n",
    "    print(classification_report(y_test_simple, y_pred_simple))\n",
    "    print()\n",
    "    print()\n",
    "    print()\n"
   ]
  },
  {
   "cell_type": "markdown",
   "metadata": {},
   "source": []
  }
 ],
 "metadata": {
  "kernelspec": {
   "display_name": "rapids_env",
   "language": "python",
   "name": "rapids_env"
  },
  "language_info": {
   "codemirror_mode": {
    "name": "ipython",
    "version": 3
   },
   "file_extension": ".py",
   "mimetype": "text/x-python",
   "name": "python",
   "nbconvert_exporter": "python",
   "pygments_lexer": "ipython3",
   "version": "3.11.9"
  }
 },
 "nbformat": 4,
 "nbformat_minor": 2
}
