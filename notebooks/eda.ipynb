{
 "cells": [
  {
   "cell_type": "markdown",
   "metadata": {},
   "source": [
    "### Exploratory Data Analysis | 8.24.2024"
   ]
  },
  {
   "cell_type": "code",
   "execution_count": 2,
   "metadata": {},
   "outputs": [],
   "source": [
    "# Import libraries\n",
    "import pandas as pd\n",
    "import numpy as np\n",
    "import matplotlib.pyplot as plt\n",
    "import os\n",
    "from tqdm import tqdm\n",
    "import warnings\n",
    "warnings.filterwarnings(\"ignore\")\n",
    "from sklearn.linear_model import LinearRegression\n"
   ]
  },
  {
   "cell_type": "code",
   "execution_count": 1,
   "metadata": {},
   "outputs": [],
   "source": [
    "import cudf\n",
    "#Load the data - Backdoor_Malware.pcap.csv\n",
    "file_path = '/home/jbenyam/threatdetection/dataset/csv/Backdoor_Malware/Backdoor_Malware.pcap.csv'\n",
    "df = cudf.read_csv(file_path)\n"
   ]
  },
  {
   "cell_type": "markdown",
   "metadata": {},
   "source": [
    "### Initial Data Exploration"
   ]
  },
  {
   "cell_type": "code",
   "execution_count": 2,
   "metadata": {},
   "outputs": [
    {
     "ename": "NameError",
     "evalue": "name 'df' is not defined",
     "output_type": "error",
     "traceback": [
      "\u001b[0;31m---------------------------------------------------------------------------\u001b[0m",
      "\u001b[0;31mNameError\u001b[0m                                 Traceback (most recent call last)",
      "Cell \u001b[0;32mIn[2], line 2\u001b[0m\n\u001b[1;32m      1\u001b[0m \u001b[38;5;66;03m# Display basic information about the dataframe\u001b[39;00m\n\u001b[0;32m----> 2\u001b[0m \u001b[38;5;28mprint\u001b[39m(\u001b[43mdf\u001b[49m\u001b[38;5;241m.\u001b[39mhead()) \u001b[38;5;66;03m# first few rows\u001b[39;00m\n\u001b[1;32m      3\u001b[0m \u001b[38;5;28mprint\u001b[39m(df\u001b[38;5;241m.\u001b[39minfo()) \u001b[38;5;66;03m# column data types and non-null values\u001b[39;00m\n",
      "\u001b[0;31mNameError\u001b[0m: name 'df' is not defined"
     ]
    }
   ],
   "source": [
    "# Display basic information about the dataframe\n",
    "print(df.head()) # first few rows\n",
    "print(df.info()) # column data types and non-null values\n",
    "\n"
   ]
  },
  {
   "cell_type": "markdown",
   "metadata": {},
   "source": [
    "### Signature Exploration using Clustering"
   ]
  },
  {
   "cell_type": "code",
   "execution_count": 4,
   "metadata": {},
   "outputs": [],
   "source": [
    "from cuml.cluster import DBSCAN\n",
    "import cudf\n",
    "\n",
    "# Selecting relevant features for clustering\n",
    "features = df[['HTTP', 'HTTPS', \n",
    "               'DNS', 'Telnet', 'SMTP', 'SSH', 'IRC', 'TCP', 'UDP', \n",
    "               'DHCP', 'ARP', 'ICMP', 'IGMP', 'IPv', 'LLC']]\n",
    "\n",
    "# Normalizing the data\n",
    "from cuml.preprocessing import StandardScaler\n",
    "scaler = StandardScaler()\n",
    "features_scaled = scaler.fit_transform(features)\n",
    "\n",
    "#Perform clustering\n",
    "dbscan = DBSCAN(eps=.5, min_samples=10)\n",
    "labels = dbscan.fit_predict(features_scaled)\n",
    "\n",
    "# Add cluster labels to the DataFrame\n",
    "df['Cluster'] = labels\n"
   ]
  },
  {
   "cell_type": "markdown",
   "metadata": {},
   "source": [
    "### Visualize Signatures w. CuxFilter for Interactive Visualization"
   ]
  },
  {
   "cell_type": "code",
   "execution_count": 5,
   "metadata": {},
   "outputs": [
    {
     "ename": "",
     "evalue": "",
     "output_type": "error",
     "traceback": [
      "\u001b[1;31mThe Kernel crashed while executing code in the current cell or a previous cell. \n",
      "\u001b[1;31mPlease review the code in the cell(s) to identify a possible cause of the failure. \n",
      "\u001b[1;31mClick <a href='https://aka.ms/vscodeJupyterKernelCrash'>here</a> for more info. \n",
      "\u001b[1;31mView Jupyter <a href='command:jupyter.viewOutput'>log</a> for further details."
     ]
    }
   ],
   "source": [
    "import plotly.express as px\n",
    "\n",
    "# Scatter plot\n",
    "fig = px.scatter(df, x='Header_Length', y='Rate', color='Cluster',\n",
    "                 title='Scatter plot of Header_Length vs. Rate')\n",
    "fig.show()\n"
   ]
  },
  {
   "cell_type": "code",
   "execution_count": null,
   "metadata": {},
   "outputs": [
    {
     "name": "stdout",
     "output_type": "stream",
     "text": [
      "0    -1\n",
      "1     0\n",
      "2     1\n",
      "3     2\n",
      "4     9\n",
      "5     3\n",
      "6     4\n",
      "7     5\n",
      "8     6\n",
      "9     7\n",
      "10    8\n",
      "Name: Cluster, dtype: int32\n"
     ]
    }
   ],
   "source": [
    "unique_labels = df['Cluster'].unique()\n",
    "print(unique_labels)\n"
   ]
  },
  {
   "cell_type": "code",
   "execution_count": 14,
   "metadata": {},
   "outputs": [
    {
     "name": "stdout",
     "output_type": "stream",
     "text": [
      "   Header_Length  Protocol Type  Time_To_Live        Rate  fin_flag_number  \\\n",
      "0           13.2             17         111.8   21.654112              0.0   \n",
      "1           11.2             17          63.5  134.621809              0.0   \n",
      "2           13.6             17          65.6  211.662495              0.0   \n",
      "3           24.8              6          84.4  155.707333              0.0   \n",
      "4           10.4             17         118.3  105.440687              0.0   \n",
      "\n",
      "   syn_flag_number  rst_flag_number  psh_flag_number  ack_flag_number  \\\n",
      "0              0.0              0.0              0.0              0.3   \n",
      "1              0.1              0.0              0.0              0.0   \n",
      "2              0.1              0.0              0.0              0.2   \n",
      "3              0.0              0.0              0.4              0.7   \n",
      "4              0.0              0.0              0.0              0.1   \n",
      "\n",
      "   ece_flag_number  ...  Tot sum  Min   Max    AVG         Std  Tot size  \\\n",
      "0              0.0  ...     2105   60  1392  210.5  415.549502     210.5   \n",
      "1              0.0  ...     4736   60  1392  473.6  632.696206     473.6   \n",
      "2              0.0  ...     3788   62  1392  378.8  508.763381     378.8   \n",
      "3              0.0  ...     2917   62   833  291.7  308.737951     291.7   \n",
      "4              0.0  ...     1163   62   230  116.3   75.052648     116.3   \n",
      "\n",
      "        IAT  Number       Variance  Cluster  \n",
      "0  0.046181      10  172681.388889       -1  \n",
      "1  0.008186      10  400304.488889       -1  \n",
      "2  0.004735      10  258840.177778       -1  \n",
      "3  0.006422      10   95319.122222       -1  \n",
      "4  0.009484      10    5632.900000       -1  \n",
      "\n",
      "[5 rows x 40 columns]\n"
     ]
    }
   ],
   "source": [
    "cdf = cuxfilter.DataFrame(df)\n",
    "print(cdf.data.head())\n"
   ]
  },
  {
   "cell_type": "code",
   "execution_count": null,
   "metadata": {},
   "outputs": [],
   "source": []
  }
 ],
 "metadata": {
  "kernelspec": {
   "display_name": "rapids_env",
   "language": "python",
   "name": "rapids_env"
  },
  "language_info": {
   "codemirror_mode": {
    "name": "ipython",
    "version": 3
   },
   "file_extension": ".py",
   "mimetype": "text/x-python",
   "name": "python",
   "nbconvert_exporter": "python",
   "pygments_lexer": "ipython3",
   "version": "3.11.9"
  }
 },
 "nbformat": 4,
 "nbformat_minor": 2
}
