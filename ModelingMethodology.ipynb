{
 "cells": [
  {
   "cell_type": "markdown",
   "metadata": {},
   "source": [
    "## Modeling Methodology "
   ]
  },
  {
   "cell_type": "markdown",
   "metadata": {},
   "source": [
    "#### Attempted Multi-Classification | Unsuccessful due to extreme class imabalances\n",
    "- REF:\n",
    "- Attempted applying SMOTE, but computationally too expensive given extreme class imbalance\n",
    "- \n",
    "#### Shifted to new approach | 6 Binary-Classifiers, trained separately\n",
    "- Train six separate binary classifiers for 6 classes: 1 (Web-Based), 2 (Spoofing), 3 (DDoS), 4 (DoS), 5 (MiraiBotnet), 6 (Recon)\n",
    "- Each model will predict whether a sample belongs to a specific class or not (e.g. \"Is this MiraiBotnet or not\")\n",
    "- For minority classes, (2 Spoofing, 6 Recon, etc) will apply oversampling techniques like SMOTE-ENN, as attempted in multi-classification. Will also reduce the decision threshold for minority classes to capture more instances for training.\n",
    "- For majority classes (3,4) can use undersampling or apply class weights to handle the imbalance\n",
    "\n",
    "#### Probabilistic Interpretation\n",
    "- After training all five models, during inference, pass a sample through all five models to generate class probabilities\n",
    "- Compare the probabilities across models to identify the most likely class. I'll select the class with the highest probability or use thresholds to classify a sample."
   ]
  },
  {
   "cell_type": "code",
   "execution_count": null,
   "metadata": {},
   "outputs": [],
   "source": []
  }
 ],
 "metadata": {
  "kernelspec": {
   "display_name": "rapids_env",
   "language": "python",
   "name": "rapids_env"
  },
  "language_info": {
   "name": "python",
   "version": "3.11.9"
  }
 },
 "nbformat": 4,
 "nbformat_minor": 2
}
